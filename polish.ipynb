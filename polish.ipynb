{
  "nbformat": 4,
  "nbformat_minor": 0,
  "metadata": {
    "colab": {
      "provenance": []
    },
    "kernelspec": {
      "name": "python3",
      "display_name": "Python 3"
    },
    "language_info": {
      "name": "python"
    }
  },
  "cells": [
    {
      "cell_type": "code",
      "execution_count": null,
      "metadata": {
        "id": "tq-dCUqH0zKc"
      },
      "outputs": [],
      "source": [
        "import pandas as pd\n",
        "from scipy.io import arff\n",
        "data = arff.loadarff('/content/year.arff')\n",
        "df = pd.DataFrame(data[0])"
      ]
    },
    {
      "cell_type": "markdown",
      "source": [
        "*  The dataset contains financial information about companies that were studied for 1 year. After 1 year, manyof them survived, but a few of them went bankrupt.\n",
        "\n"
      ],
      "metadata": {
        "id": "eNTeT98iD7v3"
      }
    },
    {
      "cell_type": "code",
      "source": [
        "df.head()"
      ],
      "metadata": {
        "colab": {
          "base_uri": "https://localhost:8080/",
          "height": 300
        },
        "id": "eeGWuJlc1OGd",
        "outputId": "7a3794dd-c922-46c4-8da7-a63d38b54cba"
      },
      "execution_count": null,
      "outputs": [
        {
          "output_type": "execute_result",
          "data": {
            "text/plain": [
              "      Attr1    Attr2    Attr3   Attr4     Attr5     Attr6     Attr7    Attr8  \\\n",
              "0  0.088238  0.55472  0.01134  1.0205  -66.5200  0.342040  0.109490  0.57752   \n",
              "1 -0.006202  0.48465  0.23298  1.5998    6.1825  0.000000 -0.006202  1.06340   \n",
              "2  0.130240  0.22142  0.57751  3.6082  120.0400  0.187640  0.162120  3.05900   \n",
              "3 -0.089951  0.88700  0.26927  1.5222  -55.9920 -0.073957 -0.089951  0.12740   \n",
              "4  0.048179  0.55041  0.10765  1.2437  -22.9590  0.000000  0.059280  0.81682   \n",
              "\n",
              "    Attr9   Attr10  ...    Attr56    Attr57   Attr58    Attr59   Attr60  \\\n",
              "0  1.0881  0.32036  ...  0.080955  0.275430  0.91905  0.002024   7.2711   \n",
              "1  1.2757  0.51535  ... -0.028591 -0.012035  1.00470  0.152220   6.0911   \n",
              "2  1.1415  0.67731  ...  0.123960  0.192290  0.87604  0.000000   8.7934   \n",
              "3  1.2754  0.11300  ...  0.418840 -0.796020  0.59074  2.878700   7.6524   \n",
              "4  1.5150  0.44959  ...  0.240400  0.107160  0.77048  0.139380  10.1180   \n",
              "\n",
              "   Attr61   Attr62  Attr63  Attr64  class  \n",
              "0  4.7343  142.760  2.5568  3.2597   b'0'  \n",
              "1  3.2749  111.140  3.2841  3.3700   b'0'  \n",
              "2  2.9870   71.531  5.1027  5.6188   b'0'  \n",
              "3  3.3302  147.560  2.4735  5.9299   b'0'  \n",
              "4  4.0950  106.430  3.4294  3.3622   b'0'  \n",
              "\n",
              "[5 rows x 65 columns]"
            ],
            "text/html": [
              "\n",
              "\n",
              "  <div id=\"df-e625cbca-11f6-4011-9731-a81b348b3e3f\">\n",
              "    <div class=\"colab-df-container\">\n",
              "      <div>\n",
              "<style scoped>\n",
              "    .dataframe tbody tr th:only-of-type {\n",
              "        vertical-align: middle;\n",
              "    }\n",
              "\n",
              "    .dataframe tbody tr th {\n",
              "        vertical-align: top;\n",
              "    }\n",
              "\n",
              "    .dataframe thead th {\n",
              "        text-align: right;\n",
              "    }\n",
              "</style>\n",
              "<table border=\"1\" class=\"dataframe\">\n",
              "  <thead>\n",
              "    <tr style=\"text-align: right;\">\n",
              "      <th></th>\n",
              "      <th>Attr1</th>\n",
              "      <th>Attr2</th>\n",
              "      <th>Attr3</th>\n",
              "      <th>Attr4</th>\n",
              "      <th>Attr5</th>\n",
              "      <th>Attr6</th>\n",
              "      <th>Attr7</th>\n",
              "      <th>Attr8</th>\n",
              "      <th>Attr9</th>\n",
              "      <th>Attr10</th>\n",
              "      <th>...</th>\n",
              "      <th>Attr56</th>\n",
              "      <th>Attr57</th>\n",
              "      <th>Attr58</th>\n",
              "      <th>Attr59</th>\n",
              "      <th>Attr60</th>\n",
              "      <th>Attr61</th>\n",
              "      <th>Attr62</th>\n",
              "      <th>Attr63</th>\n",
              "      <th>Attr64</th>\n",
              "      <th>class</th>\n",
              "    </tr>\n",
              "  </thead>\n",
              "  <tbody>\n",
              "    <tr>\n",
              "      <th>0</th>\n",
              "      <td>0.088238</td>\n",
              "      <td>0.55472</td>\n",
              "      <td>0.01134</td>\n",
              "      <td>1.0205</td>\n",
              "      <td>-66.5200</td>\n",
              "      <td>0.342040</td>\n",
              "      <td>0.109490</td>\n",
              "      <td>0.57752</td>\n",
              "      <td>1.0881</td>\n",
              "      <td>0.32036</td>\n",
              "      <td>...</td>\n",
              "      <td>0.080955</td>\n",
              "      <td>0.275430</td>\n",
              "      <td>0.91905</td>\n",
              "      <td>0.002024</td>\n",
              "      <td>7.2711</td>\n",
              "      <td>4.7343</td>\n",
              "      <td>142.760</td>\n",
              "      <td>2.5568</td>\n",
              "      <td>3.2597</td>\n",
              "      <td>b'0'</td>\n",
              "    </tr>\n",
              "    <tr>\n",
              "      <th>1</th>\n",
              "      <td>-0.006202</td>\n",
              "      <td>0.48465</td>\n",
              "      <td>0.23298</td>\n",
              "      <td>1.5998</td>\n",
              "      <td>6.1825</td>\n",
              "      <td>0.000000</td>\n",
              "      <td>-0.006202</td>\n",
              "      <td>1.06340</td>\n",
              "      <td>1.2757</td>\n",
              "      <td>0.51535</td>\n",
              "      <td>...</td>\n",
              "      <td>-0.028591</td>\n",
              "      <td>-0.012035</td>\n",
              "      <td>1.00470</td>\n",
              "      <td>0.152220</td>\n",
              "      <td>6.0911</td>\n",
              "      <td>3.2749</td>\n",
              "      <td>111.140</td>\n",
              "      <td>3.2841</td>\n",
              "      <td>3.3700</td>\n",
              "      <td>b'0'</td>\n",
              "    </tr>\n",
              "    <tr>\n",
              "      <th>2</th>\n",
              "      <td>0.130240</td>\n",
              "      <td>0.22142</td>\n",
              "      <td>0.57751</td>\n",
              "      <td>3.6082</td>\n",
              "      <td>120.0400</td>\n",
              "      <td>0.187640</td>\n",
              "      <td>0.162120</td>\n",
              "      <td>3.05900</td>\n",
              "      <td>1.1415</td>\n",
              "      <td>0.67731</td>\n",
              "      <td>...</td>\n",
              "      <td>0.123960</td>\n",
              "      <td>0.192290</td>\n",
              "      <td>0.87604</td>\n",
              "      <td>0.000000</td>\n",
              "      <td>8.7934</td>\n",
              "      <td>2.9870</td>\n",
              "      <td>71.531</td>\n",
              "      <td>5.1027</td>\n",
              "      <td>5.6188</td>\n",
              "      <td>b'0'</td>\n",
              "    </tr>\n",
              "    <tr>\n",
              "      <th>3</th>\n",
              "      <td>-0.089951</td>\n",
              "      <td>0.88700</td>\n",
              "      <td>0.26927</td>\n",
              "      <td>1.5222</td>\n",
              "      <td>-55.9920</td>\n",
              "      <td>-0.073957</td>\n",
              "      <td>-0.089951</td>\n",
              "      <td>0.12740</td>\n",
              "      <td>1.2754</td>\n",
              "      <td>0.11300</td>\n",
              "      <td>...</td>\n",
              "      <td>0.418840</td>\n",
              "      <td>-0.796020</td>\n",
              "      <td>0.59074</td>\n",
              "      <td>2.878700</td>\n",
              "      <td>7.6524</td>\n",
              "      <td>3.3302</td>\n",
              "      <td>147.560</td>\n",
              "      <td>2.4735</td>\n",
              "      <td>5.9299</td>\n",
              "      <td>b'0'</td>\n",
              "    </tr>\n",
              "    <tr>\n",
              "      <th>4</th>\n",
              "      <td>0.048179</td>\n",
              "      <td>0.55041</td>\n",
              "      <td>0.10765</td>\n",
              "      <td>1.2437</td>\n",
              "      <td>-22.9590</td>\n",
              "      <td>0.000000</td>\n",
              "      <td>0.059280</td>\n",
              "      <td>0.81682</td>\n",
              "      <td>1.5150</td>\n",
              "      <td>0.44959</td>\n",
              "      <td>...</td>\n",
              "      <td>0.240400</td>\n",
              "      <td>0.107160</td>\n",
              "      <td>0.77048</td>\n",
              "      <td>0.139380</td>\n",
              "      <td>10.1180</td>\n",
              "      <td>4.0950</td>\n",
              "      <td>106.430</td>\n",
              "      <td>3.4294</td>\n",
              "      <td>3.3622</td>\n",
              "      <td>b'0'</td>\n",
              "    </tr>\n",
              "  </tbody>\n",
              "</table>\n",
              "<p>5 rows × 65 columns</p>\n",
              "</div>\n",
              "      <button class=\"colab-df-convert\" onclick=\"convertToInteractive('df-e625cbca-11f6-4011-9731-a81b348b3e3f')\"\n",
              "              title=\"Convert this dataframe to an interactive table.\"\n",
              "              style=\"display:none;\">\n",
              "\n",
              "  <svg xmlns=\"http://www.w3.org/2000/svg\" height=\"24px\"viewBox=\"0 0 24 24\"\n",
              "       width=\"24px\">\n",
              "    <path d=\"M0 0h24v24H0V0z\" fill=\"none\"/>\n",
              "    <path d=\"M18.56 5.44l.94 2.06.94-2.06 2.06-.94-2.06-.94-.94-2.06-.94 2.06-2.06.94zm-11 1L8.5 8.5l.94-2.06 2.06-.94-2.06-.94L8.5 2.5l-.94 2.06-2.06.94zm10 10l.94 2.06.94-2.06 2.06-.94-2.06-.94-.94-2.06-.94 2.06-2.06.94z\"/><path d=\"M17.41 7.96l-1.37-1.37c-.4-.4-.92-.59-1.43-.59-.52 0-1.04.2-1.43.59L10.3 9.45l-7.72 7.72c-.78.78-.78 2.05 0 2.83L4 21.41c.39.39.9.59 1.41.59.51 0 1.02-.2 1.41-.59l7.78-7.78 2.81-2.81c.8-.78.8-2.07 0-2.86zM5.41 20L4 18.59l7.72-7.72 1.47 1.35L5.41 20z\"/>\n",
              "  </svg>\n",
              "      </button>\n",
              "\n",
              "\n",
              "\n",
              "    <div id=\"df-b30ab5f0-0fa2-42f7-9ce1-2fd3ad0e0fed\">\n",
              "      <button class=\"colab-df-quickchart\" onclick=\"quickchart('df-b30ab5f0-0fa2-42f7-9ce1-2fd3ad0e0fed')\"\n",
              "              title=\"Suggest charts.\"\n",
              "              style=\"display:none;\">\n",
              "\n",
              "<svg xmlns=\"http://www.w3.org/2000/svg\" height=\"24px\"viewBox=\"0 0 24 24\"\n",
              "     width=\"24px\">\n",
              "    <g>\n",
              "        <path d=\"M19 3H5c-1.1 0-2 .9-2 2v14c0 1.1.9 2 2 2h14c1.1 0 2-.9 2-2V5c0-1.1-.9-2-2-2zM9 17H7v-7h2v7zm4 0h-2V7h2v10zm4 0h-2v-4h2v4z\"/>\n",
              "    </g>\n",
              "</svg>\n",
              "      </button>\n",
              "    </div>\n",
              "\n",
              "<style>\n",
              "  .colab-df-quickchart {\n",
              "    background-color: #E8F0FE;\n",
              "    border: none;\n",
              "    border-radius: 50%;\n",
              "    cursor: pointer;\n",
              "    display: none;\n",
              "    fill: #1967D2;\n",
              "    height: 32px;\n",
              "    padding: 0 0 0 0;\n",
              "    width: 32px;\n",
              "  }\n",
              "\n",
              "  .colab-df-quickchart:hover {\n",
              "    background-color: #E2EBFA;\n",
              "    box-shadow: 0px 1px 2px rgba(60, 64, 67, 0.3), 0px 1px 3px 1px rgba(60, 64, 67, 0.15);\n",
              "    fill: #174EA6;\n",
              "  }\n",
              "\n",
              "  [theme=dark] .colab-df-quickchart {\n",
              "    background-color: #3B4455;\n",
              "    fill: #D2E3FC;\n",
              "  }\n",
              "\n",
              "  [theme=dark] .colab-df-quickchart:hover {\n",
              "    background-color: #434B5C;\n",
              "    box-shadow: 0px 1px 3px 1px rgba(0, 0, 0, 0.15);\n",
              "    filter: drop-shadow(0px 1px 2px rgba(0, 0, 0, 0.3));\n",
              "    fill: #FFFFFF;\n",
              "  }\n",
              "</style>\n",
              "\n",
              "    <script>\n",
              "      async function quickchart(key) {\n",
              "        const containerElement = document.querySelector('#' + key);\n",
              "        const charts = await google.colab.kernel.invokeFunction(\n",
              "            'suggestCharts', [key], {});\n",
              "      }\n",
              "    </script>\n",
              "\n",
              "      <script>\n",
              "\n",
              "function displayQuickchartButton(domScope) {\n",
              "  let quickchartButtonEl =\n",
              "    domScope.querySelector('#df-b30ab5f0-0fa2-42f7-9ce1-2fd3ad0e0fed button.colab-df-quickchart');\n",
              "  quickchartButtonEl.style.display =\n",
              "    google.colab.kernel.accessAllowed ? 'block' : 'none';\n",
              "}\n",
              "\n",
              "        displayQuickchartButton(document);\n",
              "      </script>\n",
              "      <style>\n",
              "    .colab-df-container {\n",
              "      display:flex;\n",
              "      flex-wrap:wrap;\n",
              "      gap: 12px;\n",
              "    }\n",
              "\n",
              "    .colab-df-convert {\n",
              "      background-color: #E8F0FE;\n",
              "      border: none;\n",
              "      border-radius: 50%;\n",
              "      cursor: pointer;\n",
              "      display: none;\n",
              "      fill: #1967D2;\n",
              "      height: 32px;\n",
              "      padding: 0 0 0 0;\n",
              "      width: 32px;\n",
              "    }\n",
              "\n",
              "    .colab-df-convert:hover {\n",
              "      background-color: #E2EBFA;\n",
              "      box-shadow: 0px 1px 2px rgba(60, 64, 67, 0.3), 0px 1px 3px 1px rgba(60, 64, 67, 0.15);\n",
              "      fill: #174EA6;\n",
              "    }\n",
              "\n",
              "    [theme=dark] .colab-df-convert {\n",
              "      background-color: #3B4455;\n",
              "      fill: #D2E3FC;\n",
              "    }\n",
              "\n",
              "    [theme=dark] .colab-df-convert:hover {\n",
              "      background-color: #434B5C;\n",
              "      box-shadow: 0px 1px 3px 1px rgba(0, 0, 0, 0.15);\n",
              "      filter: drop-shadow(0px 1px 2px rgba(0, 0, 0, 0.3));\n",
              "      fill: #FFFFFF;\n",
              "    }\n",
              "  </style>\n",
              "\n",
              "      <script>\n",
              "        const buttonEl =\n",
              "          document.querySelector('#df-e625cbca-11f6-4011-9731-a81b348b3e3f button.colab-df-convert');\n",
              "        buttonEl.style.display =\n",
              "          google.colab.kernel.accessAllowed ? 'block' : 'none';\n",
              "\n",
              "        async function convertToInteractive(key) {\n",
              "          const element = document.querySelector('#df-e625cbca-11f6-4011-9731-a81b348b3e3f');\n",
              "          const dataTable =\n",
              "            await google.colab.kernel.invokeFunction('convertToInteractive',\n",
              "                                                     [key], {});\n",
              "          if (!dataTable) return;\n",
              "\n",
              "          const docLinkHtml = 'Like what you see? Visit the ' +\n",
              "            '<a target=\"_blank\" href=https://colab.research.google.com/notebooks/data_table.ipynb>data table notebook</a>'\n",
              "            + ' to learn more about interactive tables.';\n",
              "          element.innerHTML = '';\n",
              "          dataTable['output_type'] = 'display_data';\n",
              "          await google.colab.output.renderOutput(dataTable, element);\n",
              "          const docLink = document.createElement('div');\n",
              "          docLink.innerHTML = docLinkHtml;\n",
              "          element.appendChild(docLink);\n",
              "        }\n",
              "      </script>\n",
              "    </div>\n",
              "  </div>\n"
            ]
          },
          "metadata": {},
          "execution_count": 2
        }
      ]
    },
    {
      "cell_type": "code",
      "source": [
        "df.shape"
      ],
      "metadata": {
        "colab": {
          "base_uri": "https://localhost:8080/"
        },
        "id": "3WHqAckY1PfW",
        "outputId": "8af40b15-00dc-4fdf-bc19-cafb8d770a43"
      },
      "execution_count": null,
      "outputs": [
        {
          "output_type": "execute_result",
          "data": {
            "text/plain": [
              "(5910, 65)"
            ]
          },
          "metadata": {},
          "execution_count": 3
        }
      ]
    },
    {
      "cell_type": "markdown",
      "source": [
        "Converting the type of target variable to integer"
      ],
      "metadata": {
        "id": "U4ej9mH7Ebo_"
      }
    },
    {
      "cell_type": "code",
      "source": [
        "df['class'].value_counts()"
      ],
      "metadata": {
        "colab": {
          "base_uri": "https://localhost:8080/"
        },
        "id": "tQFPujR-1ZnN",
        "outputId": "f32c62f7-0499-44c9-b5e6-290766df3108"
      },
      "execution_count": null,
      "outputs": [
        {
          "output_type": "execute_result",
          "data": {
            "text/plain": [
              "b'0'    5500\n",
              "b'1'     410\n",
              "Name: class, dtype: int64"
            ]
          },
          "metadata": {},
          "execution_count": 4
        }
      ]
    },
    {
      "cell_type": "code",
      "source": [
        "df['class'] = df['class'].astype(int)"
      ],
      "metadata": {
        "id": "JsI0gkw42TaL"
      },
      "execution_count": null,
      "outputs": []
    },
    {
      "cell_type": "code",
      "source": [
        "df['class'].value_counts()"
      ],
      "metadata": {
        "colab": {
          "base_uri": "https://localhost:8080/"
        },
        "id": "BCr6kYhS2jKy",
        "outputId": "4d0059b5-9492-4191-9813-c409dbd6f84e"
      },
      "execution_count": null,
      "outputs": [
        {
          "output_type": "execute_result",
          "data": {
            "text/plain": [
              "0    5500\n",
              "1     410\n",
              "Name: class, dtype: int64"
            ]
          },
          "metadata": {},
          "execution_count": 6
        }
      ]
    },
    {
      "cell_type": "markdown",
      "source": [
        "Handling missing values."
      ],
      "metadata": {
        "id": "Eq5YyGkdEisC"
      }
    },
    {
      "cell_type": "markdown",
      "source": [
        "*  here, missing values are replaces with the mean value of the column\n"
      ],
      "metadata": {
        "id": "sinsWVnnEmnH"
      }
    },
    {
      "cell_type": "code",
      "source": [
        "df.isna().sum()"
      ],
      "metadata": {
        "colab": {
          "base_uri": "https://localhost:8080/"
        },
        "id": "p5-L5fpi2k3q",
        "outputId": "949b43c7-a498-423c-c099-d40b2ddfe1ba"
      },
      "execution_count": null,
      "outputs": [
        {
          "output_type": "execute_result",
          "data": {
            "text/plain": [
              "Attr1       3\n",
              "Attr2       3\n",
              "Attr3       3\n",
              "Attr4      21\n",
              "Attr5      11\n",
              "         ... \n",
              "Attr61     15\n",
              "Attr62      0\n",
              "Attr63     21\n",
              "Attr64    107\n",
              "class       0\n",
              "Length: 65, dtype: int64"
            ]
          },
          "metadata": {},
          "execution_count": 7
        }
      ]
    },
    {
      "cell_type": "code",
      "source": [
        "df.mean()"
      ],
      "metadata": {
        "colab": {
          "base_uri": "https://localhost:8080/"
        },
        "id": "x6E1tmfd3syx",
        "outputId": "8a42ee03-b3e2-49ad-9597-fc7de3ed8daf"
      },
      "execution_count": null,
      "outputs": [
        {
          "output_type": "execute_result",
          "data": {
            "text/plain": [
              "Attr1      -0.022347\n",
              "Attr2       0.465086\n",
              "Attr3       0.189155\n",
              "Attr4       4.892476\n",
              "Attr5      19.406758\n",
              "             ...    \n",
              "Attr61     10.941497\n",
              "Attr62    241.978184\n",
              "Attr63      9.127741\n",
              "Attr64     65.276716\n",
              "class       0.069374\n",
              "Length: 65, dtype: float64"
            ]
          },
          "metadata": {},
          "execution_count": 8
        }
      ]
    },
    {
      "cell_type": "code",
      "source": [
        "df.fillna(value = df.mean(), inplace = True)"
      ],
      "metadata": {
        "id": "j18tkA933lft"
      },
      "execution_count": null,
      "outputs": []
    },
    {
      "cell_type": "code",
      "source": [
        "df.isna().sum()"
      ],
      "metadata": {
        "colab": {
          "base_uri": "https://localhost:8080/"
        },
        "id": "edYFtsMJ3w6N",
        "outputId": "26fe8c3b-abb6-42d1-a8e0-72eb969385df"
      },
      "execution_count": null,
      "outputs": [
        {
          "output_type": "execute_result",
          "data": {
            "text/plain": [
              "Attr1     0\n",
              "Attr2     0\n",
              "Attr3     0\n",
              "Attr4     0\n",
              "Attr5     0\n",
              "         ..\n",
              "Attr61    0\n",
              "Attr62    0\n",
              "Attr63    0\n",
              "Attr64    0\n",
              "class     0\n",
              "Length: 65, dtype: int64"
            ]
          },
          "metadata": {},
          "execution_count": 10
        }
      ]
    },
    {
      "cell_type": "code",
      "source": [
        "df.info()"
      ],
      "metadata": {
        "colab": {
          "base_uri": "https://localhost:8080/"
        },
        "id": "9JWjPIm53zCN",
        "outputId": "3bce540d-bf23-475a-cab0-544d1384dacb"
      },
      "execution_count": null,
      "outputs": [
        {
          "output_type": "stream",
          "name": "stdout",
          "text": [
            "<class 'pandas.core.frame.DataFrame'>\n",
            "RangeIndex: 5910 entries, 0 to 5909\n",
            "Data columns (total 65 columns):\n",
            " #   Column  Non-Null Count  Dtype  \n",
            "---  ------  --------------  -----  \n",
            " 0   Attr1   5910 non-null   float64\n",
            " 1   Attr2   5910 non-null   float64\n",
            " 2   Attr3   5910 non-null   float64\n",
            " 3   Attr4   5910 non-null   float64\n",
            " 4   Attr5   5910 non-null   float64\n",
            " 5   Attr6   5910 non-null   float64\n",
            " 6   Attr7   5910 non-null   float64\n",
            " 7   Attr8   5910 non-null   float64\n",
            " 8   Attr9   5910 non-null   float64\n",
            " 9   Attr10  5910 non-null   float64\n",
            " 10  Attr11  5910 non-null   float64\n",
            " 11  Attr12  5910 non-null   float64\n",
            " 12  Attr13  5910 non-null   float64\n",
            " 13  Attr14  5910 non-null   float64\n",
            " 14  Attr15  5910 non-null   float64\n",
            " 15  Attr16  5910 non-null   float64\n",
            " 16  Attr17  5910 non-null   float64\n",
            " 17  Attr18  5910 non-null   float64\n",
            " 18  Attr19  5910 non-null   float64\n",
            " 19  Attr20  5910 non-null   float64\n",
            " 20  Attr21  5910 non-null   float64\n",
            " 21  Attr22  5910 non-null   float64\n",
            " 22  Attr23  5910 non-null   float64\n",
            " 23  Attr24  5910 non-null   float64\n",
            " 24  Attr25  5910 non-null   float64\n",
            " 25  Attr26  5910 non-null   float64\n",
            " 26  Attr27  5910 non-null   float64\n",
            " 27  Attr28  5910 non-null   float64\n",
            " 28  Attr29  5910 non-null   float64\n",
            " 29  Attr30  5910 non-null   float64\n",
            " 30  Attr31  5910 non-null   float64\n",
            " 31  Attr32  5910 non-null   float64\n",
            " 32  Attr33  5910 non-null   float64\n",
            " 33  Attr34  5910 non-null   float64\n",
            " 34  Attr35  5910 non-null   float64\n",
            " 35  Attr36  5910 non-null   float64\n",
            " 36  Attr37  5910 non-null   float64\n",
            " 37  Attr38  5910 non-null   float64\n",
            " 38  Attr39  5910 non-null   float64\n",
            " 39  Attr40  5910 non-null   float64\n",
            " 40  Attr41  5910 non-null   float64\n",
            " 41  Attr42  5910 non-null   float64\n",
            " 42  Attr43  5910 non-null   float64\n",
            " 43  Attr44  5910 non-null   float64\n",
            " 44  Attr45  5910 non-null   float64\n",
            " 45  Attr46  5910 non-null   float64\n",
            " 46  Attr47  5910 non-null   float64\n",
            " 47  Attr48  5910 non-null   float64\n",
            " 48  Attr49  5910 non-null   float64\n",
            " 49  Attr50  5910 non-null   float64\n",
            " 50  Attr51  5910 non-null   float64\n",
            " 51  Attr52  5910 non-null   float64\n",
            " 52  Attr53  5910 non-null   float64\n",
            " 53  Attr54  5910 non-null   float64\n",
            " 54  Attr55  5910 non-null   float64\n",
            " 55  Attr56  5910 non-null   float64\n",
            " 56  Attr57  5910 non-null   float64\n",
            " 57  Attr58  5910 non-null   float64\n",
            " 58  Attr59  5910 non-null   float64\n",
            " 59  Attr60  5910 non-null   float64\n",
            " 60  Attr61  5910 non-null   float64\n",
            " 61  Attr62  5910 non-null   float64\n",
            " 62  Attr63  5910 non-null   float64\n",
            " 63  Attr64  5910 non-null   float64\n",
            " 64  class   5910 non-null   int64  \n",
            "dtypes: float64(64), int64(1)\n",
            "memory usage: 2.9 MB\n"
          ]
        }
      ]
    },
    {
      "cell_type": "markdown",
      "source": [
        "Feature Selection"
      ],
      "metadata": {
        "id": "LnU2ApYUFQkY"
      }
    },
    {
      "cell_type": "markdown",
      "source": [
        "*   as the dataset contains 64 features. Training on such high dimentional feature set would result in low interpretability of the result\n",
        "\n"
      ],
      "metadata": {
        "id": "JbLJRUgcE16-"
      }
    },
    {
      "cell_type": "code",
      "source": [
        "features = df.drop('class', axis = 1)"
      ],
      "metadata": {
        "id": "gTpT2TPm4LIE"
      },
      "execution_count": null,
      "outputs": []
    },
    {
      "cell_type": "code",
      "source": [
        "import seaborn as sns\n",
        "cor = features.corr()\n",
        "color = sns.color_palette(\"Reds\")\n",
        "sns.heatmap(cor, cmap = color)"
      ],
      "metadata": {
        "colab": {
          "base_uri": "https://localhost:8080/",
          "height": 482
        },
        "id": "KlokNC4A4CJM",
        "outputId": "10cffda2-d012-4ef4-9304-144a7f65f47d"
      },
      "execution_count": null,
      "outputs": [
        {
          "output_type": "execute_result",
          "data": {
            "text/plain": [
              "<Axes: >"
            ]
          },
          "metadata": {},
          "execution_count": 64
        },
        {
          "output_type": "display_data",
          "data": {
            "text/plain": [
              "<Figure size 640x480 with 2 Axes>"
            ],
            "image/png": "[encoded data removed]"
          },
          "metadata": {}
        }
      ]
    },
    {
      "cell_type": "code",
      "source": [
        "cor"
      ],
      "metadata": {
        "colab": {
          "base_uri": "https://localhost:8080/",
          "height": 488
        },
        "id": "GIvWhlT34RN2",
        "outputId": "3e5c44c2-aa4a-40e1-8159-d2ef00bace05"
      },
      "execution_count": null,
      "outputs": [
        {
          "output_type": "execute_result",
          "data": {
            "text/plain": [
              "           Attr1     Attr2     Attr3     Attr4     Attr5     Attr6     Attr7  \\\n",
              "Attr1   1.000000 -0.192969  0.055964  0.000903  0.000198  0.727370  0.520071   \n",
              "Attr2  -0.192969  1.000000 -0.099898 -0.002658 -0.001352 -0.709909  0.716802   \n",
              "Attr3   0.055964 -0.099898  1.000000  0.021429  0.004879  0.007278  0.102217   \n",
              "Attr4   0.000903 -0.002658  0.021429  1.000000  0.002202 -0.000549  0.001188   \n",
              "Attr5   0.000198 -0.001352  0.004879  0.002202  1.000000  0.000239  0.000230   \n",
              "...          ...       ...       ...       ...       ...       ...       ...   \n",
              "Attr60  0.000254  0.000187 -0.000410 -0.000241  0.000053 -0.000100  0.000365   \n",
              "Attr61  0.009739 -0.074872 -0.059806 -0.003771 -0.002602  0.049353 -0.069018   \n",
              "Attr62 -0.002090  0.011968 -0.065365 -0.001625 -0.045057 -0.006882 -0.001153   \n",
              "Attr63  0.001324 -0.003677  0.024470  0.967649  0.000568 -0.000088  0.001360   \n",
              "Attr64 -0.173136  0.001098  0.001984  0.001346 -0.000255 -0.107615 -0.117469   \n",
              "\n",
              "           Attr8     Attr9    Attr10  ...    Attr55    Attr56    Attr57  \\\n",
              "Attr1   0.000584  0.095136 -0.433635  ...  0.004482  0.011558  0.002738   \n",
              "Attr2  -0.003701 -0.495885 -0.796110  ... -0.010130 -0.015680 -0.001836   \n",
              "Attr3   0.017484 -0.144775  0.127972  ...  0.059162  0.054312  0.008222   \n",
              "Attr4   0.905787 -0.011183  0.002896  ... -0.000227 -0.002525  0.001134   \n",
              "Attr5   0.004463 -0.040174  0.001746  ...  0.002096  0.011181  0.000360   \n",
              "...          ...       ...       ...  ...       ...       ...       ...   \n",
              "Attr60 -0.000246 -0.003072 -0.000216  ... -0.001595  0.000758  0.000347   \n",
              "Attr61 -0.003624  0.150896  0.056581  ... -0.013172 -0.007911  0.001117   \n",
              "Attr62 -0.001472 -0.022288 -0.012623  ... -0.008999 -0.161767 -0.000591   \n",
              "Attr63  0.865117  0.019123  0.003909  ... -0.000685  0.004444  0.001879   \n",
              "Attr64  0.000599  0.028182  0.105074  ... -0.002811 -0.000827  0.000449   \n",
              "\n",
              "          Attr58    Attr59    Attr60    Attr61    Attr62    Attr63    Attr64  \n",
              "Attr1   0.011704  0.000694  0.000254  0.009739 -0.002090  0.001324 -0.173136  \n",
              "Attr2  -0.098119  0.000963  0.000187 -0.074872  0.011968 -0.003677  0.001098  \n",
              "Attr3  -0.059738 -0.004326 -0.000410 -0.059806 -0.065365  0.024470  0.001984  \n",
              "Attr4  -0.001916 -0.001963 -0.000241 -0.003771 -0.001625  0.967649  0.001346  \n",
              "Attr5  -0.010729 -0.000547  0.000053 -0.002602 -0.045057  0.000568 -0.000255  \n",
              "...          ...       ...       ...       ...       ...       ...       ...  \n",
              "Attr60 -0.000601 -0.000652  1.000000 -0.002852 -0.000083 -0.000541 -0.000360  \n",
              "Attr61  0.013346  0.000982 -0.002852  1.000000 -0.004096  0.005850 -0.002028  \n",
              "Attr62  0.288514 -0.000666 -0.000083 -0.004096  1.000000 -0.002883 -0.000843  \n",
              "Attr63 -0.008730 -0.001790 -0.000541  0.005850 -0.002883  1.000000  0.001620  \n",
              "Attr64  0.000390 -0.001376 -0.000360 -0.002028 -0.000843  0.001620  1.000000  \n",
              "\n",
              "[64 rows x 64 columns]"
            ],
            "text/html": [
              "\n",
              "\n",
              "  <div id=\"df-151477c5-d813-4617-b38a-26156d412a0e\">\n",
              "    <div class=\"colab-df-container\">\n",
              "      <div>\n",
              "<style scoped>\n",
              "    .dataframe tbody tr th:only-of-type {\n",
              "        vertical-align: middle;\n",
              "    }\n",
              "\n",
              "    .dataframe tbody tr th {\n",
              "        vertical-align: top;\n",
              "    }\n",
              "\n",
              "    .dataframe thead th {\n",
              "        text-align: right;\n",
              "    }\n",
              "</style>\n",
              "<table border=\"1\" class=\"dataframe\">\n",
              "  <thead>\n",
              "    <tr style=\"text-align: right;\">\n",
              "      <th></th>\n",
              "      <th>Attr1</th>\n",
              "      <th>Attr2</th>\n",
              "      <th>Attr3</th>\n",
              "      <th>Attr4</th>\n",
              "      <th>Attr5</th>\n",
              "      <th>Attr6</th>\n",
              "      <th>Attr7</th>\n",
              "      <th>Attr8</th>\n",
              "      <th>Attr9</th>\n",
              "      <th>Attr10</th>\n",
              "      <th>...</th>\n",
              "      <th>Attr55</th>\n",
              "      <th>Attr56</th>\n",
              "      <th>Attr57</th>\n",
              "      <th>Attr58</th>\n",
              "      <th>Attr59</th>\n",
              "      <th>Attr60</th>\n",
              "      <th>Attr61</th>\n",
              "      <th>Attr62</th>\n",
              "      <th>Attr63</th>\n",
              "      <th>Attr64</th>\n",
              "    </tr>\n",
              "  </thead>\n",
              "  <tbody>\n",
              "    <tr>\n",
              "      <th>Attr1</th>\n",
              "      <td>1.000000</td>\n",
              "      <td>-0.192969</td>\n",
              "      <td>0.055964</td>\n",
              "      <td>0.000903</td>\n",
              "      <td>0.000198</td>\n",
              "      <td>0.727370</td>\n",
              "      <td>0.520071</td>\n",
              "      <td>0.000584</td>\n",
              "      <td>0.095136</td>\n",
              "      <td>-0.433635</td>\n",
              "      <td>...</td>\n",
              "      <td>0.004482</td>\n",
              "      <td>0.011558</td>\n",
              "      <td>0.002738</td>\n",
              "      <td>0.011704</td>\n",
              "      <td>0.000694</td>\n",
              "      <td>0.000254</td>\n",
              "      <td>0.009739</td>\n",
              "      <td>-0.002090</td>\n",
              "      <td>0.001324</td>\n",
              "      <td>-0.173136</td>\n",
              "    </tr>\n",
              "    <tr>\n",
              "      <th>Attr2</th>\n",
              "      <td>-0.192969</td>\n",
              "      <td>1.000000</td>\n",
              "      <td>-0.099898</td>\n",
              "      <td>-0.002658</td>\n",
              "      <td>-0.001352</td>\n",
              "      <td>-0.709909</td>\n",
              "      <td>0.716802</td>\n",
              "      <td>-0.003701</td>\n",
              "      <td>-0.495885</td>\n",
              "      <td>-0.796110</td>\n",
              "      <td>...</td>\n",
              "      <td>-0.010130</td>\n",
              "      <td>-0.015680</td>\n",
              "      <td>-0.001836</td>\n",
              "      <td>-0.098119</td>\n",
              "      <td>0.000963</td>\n",
              "      <td>0.000187</td>\n",
              "      <td>-0.074872</td>\n",
              "      <td>0.011968</td>\n",
              "      <td>-0.003677</td>\n",
              "      <td>0.001098</td>\n",
              "    </tr>\n",
              "    <tr>\n",
              "      <th>Attr3</th>\n",
              "      <td>0.055964</td>\n",
              "      <td>-0.099898</td>\n",
              "      <td>1.000000</td>\n",
              "      <td>0.021429</td>\n",
              "      <td>0.004879</td>\n",
              "      <td>0.007278</td>\n",
              "      <td>0.102217</td>\n",
              "      <td>0.017484</td>\n",
              "      <td>-0.144775</td>\n",
              "      <td>0.127972</td>\n",
              "      <td>...</td>\n",
              "      <td>0.059162</td>\n",
              "      <td>0.054312</td>\n",
              "      <td>0.008222</td>\n",
              "      <td>-0.059738</td>\n",
              "      <td>-0.004326</td>\n",
              "      <td>-0.000410</td>\n",
              "      <td>-0.059806</td>\n",
              "      <td>-0.065365</td>\n",
              "      <td>0.024470</td>\n",
              "      <td>0.001984</td>\n",
              "    </tr>\n",
              "    <tr>\n",
              "      <th>Attr4</th>\n",
              "      <td>0.000903</td>\n",
              "      <td>-0.002658</td>\n",
              "      <td>0.021429</td>\n",
              "      <td>1.000000</td>\n",
              "      <td>0.002202</td>\n",
              "      <td>-0.000549</td>\n",
              "      <td>0.001188</td>\n",
              "      <td>0.905787</td>\n",
              "      <td>-0.011183</td>\n",
              "      <td>0.002896</td>\n",
              "      <td>...</td>\n",
              "      <td>-0.000227</td>\n",
              "      <td>-0.002525</td>\n",
              "      <td>0.001134</td>\n",
              "      <td>-0.001916</td>\n",
              "      <td>-0.001963</td>\n",
              "      <td>-0.000241</td>\n",
              "      <td>-0.003771</td>\n",
              "      <td>-0.001625</td>\n",
              "      <td>0.967649</td>\n",
              "      <td>0.001346</td>\n",
              "    </tr>\n",
              "    <tr>\n",
              "      <th>Attr5</th>\n",
              "      <td>0.000198</td>\n",
              "      <td>-0.001352</td>\n",
              "      <td>0.004879</td>\n",
              "      <td>0.002202</td>\n",
              "      <td>1.000000</td>\n",
              "      <td>0.000239</td>\n",
              "      <td>0.000230</td>\n",
              "      <td>0.004463</td>\n",
              "      <td>-0.040174</td>\n",
              "      <td>0.001746</td>\n",
              "      <td>...</td>\n",
              "      <td>0.002096</td>\n",
              "      <td>0.011181</td>\n",
              "      <td>0.000360</td>\n",
              "      <td>-0.010729</td>\n",
              "      <td>-0.000547</td>\n",
              "      <td>0.000053</td>\n",
              "      <td>-0.002602</td>\n",
              "      <td>-0.045057</td>\n",
              "      <td>0.000568</td>\n",
              "      <td>-0.000255</td>\n",
              "    </tr>\n",
              "    <tr>\n",
              "      <th>...</th>\n",
              "      <td>...</td>\n",
              "      <td>...</td>\n",
              "      <td>...</td>\n",
              "      <td>...</td>\n",
              "      <td>...</td>\n",
              "      <td>...</td>\n",
              "      <td>...</td>\n",
              "      <td>...</td>\n",
              "      <td>...</td>\n",
              "      <td>...</td>\n",
              "      <td>...</td>\n",
              "      <td>...</td>\n",
              "      <td>...</td>\n",
              "      <td>...</td>\n",
              "      <td>...</td>\n",
              "      <td>...</td>\n",
              "      <td>...</td>\n",
              "      <td>...</td>\n",
              "      <td>...</td>\n",
              "      <td>...</td>\n",
              "      <td>...</td>\n",
              "    </tr>\n",
              "    <tr>\n",
              "      <th>Attr60</th>\n",
              "      <td>0.000254</td>\n",
              "      <td>0.000187</td>\n",
              "      <td>-0.000410</td>\n",
              "      <td>-0.000241</td>\n",
              "      <td>0.000053</td>\n",
              "      <td>-0.000100</td>\n",
              "      <td>0.000365</td>\n",
              "      <td>-0.000246</td>\n",
              "      <td>-0.003072</td>\n",
              "      <td>-0.000216</td>\n",
              "      <td>...</td>\n",
              "      <td>-0.001595</td>\n",
              "      <td>0.000758</td>\n",
              "      <td>0.000347</td>\n",
              "      <td>-0.000601</td>\n",
              "      <td>-0.000652</td>\n",
              "      <td>1.000000</td>\n",
              "      <td>-0.002852</td>\n",
              "      <td>-0.000083</td>\n",
              "      <td>-0.000541</td>\n",
              "      <td>-0.000360</td>\n",
              "    </tr>\n",
              "    <tr>\n",
              "      <th>Attr61</th>\n",
              "      <td>0.009739</td>\n",
              "      <td>-0.074872</td>\n",
              "      <td>-0.059806</td>\n",
              "      <td>-0.003771</td>\n",
              "      <td>-0.002602</td>\n",
              "      <td>0.049353</td>\n",
              "      <td>-0.069018</td>\n",
              "      <td>-0.003624</td>\n",
              "      <td>0.150896</td>\n",
              "      <td>0.056581</td>\n",
              "      <td>...</td>\n",
              "      <td>-0.013172</td>\n",
              "      <td>-0.007911</td>\n",
              "      <td>0.001117</td>\n",
              "      <td>0.013346</td>\n",
              "      <td>0.000982</td>\n",
              "      <td>-0.002852</td>\n",
              "      <td>1.000000</td>\n",
              "      <td>-0.004096</td>\n",
              "      <td>0.005850</td>\n",
              "      <td>-0.002028</td>\n",
              "    </tr>\n",
              "    <tr>\n",
              "      <th>Attr62</th>\n",
              "      <td>-0.002090</td>\n",
              "      <td>0.011968</td>\n",
              "      <td>-0.065365</td>\n",
              "      <td>-0.001625</td>\n",
              "      <td>-0.045057</td>\n",
              "      <td>-0.006882</td>\n",
              "      <td>-0.001153</td>\n",
              "      <td>-0.001472</td>\n",
              "      <td>-0.022288</td>\n",
              "      <td>-0.012623</td>\n",
              "      <td>...</td>\n",
              "      <td>-0.008999</td>\n",
              "      <td>-0.161767</td>\n",
              "      <td>-0.000591</td>\n",
              "      <td>0.288514</td>\n",
              "      <td>-0.000666</td>\n",
              "      <td>-0.000083</td>\n",
              "      <td>-0.004096</td>\n",
              "      <td>1.000000</td>\n",
              "      <td>-0.002883</td>\n",
              "      <td>-0.000843</td>\n",
              "    </tr>\n",
              "    <tr>\n",
              "      <th>Attr63</th>\n",
              "      <td>0.001324</td>\n",
              "      <td>-0.003677</td>\n",
              "      <td>0.024470</td>\n",
              "      <td>0.967649</td>\n",
              "      <td>0.000568</td>\n",
              "      <td>-0.000088</td>\n",
              "      <td>0.001360</td>\n",
              "      <td>0.865117</td>\n",
              "      <td>0.019123</td>\n",
              "      <td>0.003909</td>\n",
              "      <td>...</td>\n",
              "      <td>-0.000685</td>\n",
              "      <td>0.004444</td>\n",
              "      <td>0.001879</td>\n",
              "      <td>-0.008730</td>\n",
              "      <td>-0.001790</td>\n",
              "      <td>-0.000541</td>\n",
              "      <td>0.005850</td>\n",
              "      <td>-0.002883</td>\n",
              "      <td>1.000000</td>\n",
              "      <td>0.001620</td>\n",
              "    </tr>\n",
              "    <tr>\n",
              "      <th>Attr64</th>\n",
              "      <td>-0.173136</td>\n",
              "      <td>0.001098</td>\n",
              "      <td>0.001984</td>\n",
              "      <td>0.001346</td>\n",
              "      <td>-0.000255</td>\n",
              "      <td>-0.107615</td>\n",
              "      <td>-0.117469</td>\n",
              "      <td>0.000599</td>\n",
              "      <td>0.028182</td>\n",
              "      <td>0.105074</td>\n",
              "      <td>...</td>\n",
              "      <td>-0.002811</td>\n",
              "      <td>-0.000827</td>\n",
              "      <td>0.000449</td>\n",
              "      <td>0.000390</td>\n",
              "      <td>-0.001376</td>\n",
              "      <td>-0.000360</td>\n",
              "      <td>-0.002028</td>\n",
              "      <td>-0.000843</td>\n",
              "      <td>0.001620</td>\n",
              "      <td>1.000000</td>\n",
              "    </tr>\n",
              "  </tbody>\n",
              "</table>\n",
              "<p>64 rows × 64 columns</p>\n",
              "</div>\n",
              "      <button class=\"colab-df-convert\" onclick=\"convertToInteractive('df-151477c5-d813-4617-b38a-26156d412a0e')\"\n",
              "              title=\"Convert this dataframe to an interactive table.\"\n",
              "              style=\"display:none;\">\n",
              "\n",
              "  <svg xmlns=\"http://www.w3.org/2000/svg\" height=\"24px\"viewBox=\"0 0 24 24\"\n",
              "       width=\"24px\">\n",
              "    <path d=\"M0 0h24v24H0V0z\" fill=\"none\"/>\n",
              "    <path d=\"M18.56 5.44l.94 2.06.94-2.06 2.06-.94-2.06-.94-.94-2.06-.94 2.06-2.06.94zm-11 1L8.5 8.5l.94-2.06 2.06-.94-2.06-.94L8.5 2.5l-.94 2.06-2.06.94zm10 10l.94 2.06.94-2.06 2.06-.94-2.06-.94-.94-2.06-.94 2.06-2.06.94z\"/><path d=\"M17.41 7.96l-1.37-1.37c-.4-.4-.92-.59-1.43-.59-.52 0-1.04.2-1.43.59L10.3 9.45l-7.72 7.72c-.78.78-.78 2.05 0 2.83L4 21.41c.39.39.9.59 1.41.59.51 0 1.02-.2 1.41-.59l7.78-7.78 2.81-2.81c.8-.78.8-2.07 0-2.86zM5.41 20L4 18.59l7.72-7.72 1.47 1.35L5.41 20z\"/>\n",
              "  </svg>\n",
              "      </button>\n",
              "\n",
              "\n",
              "\n",
              "    <div id=\"df-73e02cb1-f9a9-47e0-a551-23c9a4e0e5c9\">\n",
              "      <button class=\"colab-df-quickchart\" onclick=\"quickchart('df-73e02cb1-f9a9-47e0-a551-23c9a4e0e5c9')\"\n",
              "              title=\"Suggest charts.\"\n",
              "              style=\"display:none;\">\n",
              "\n",
              "<svg xmlns=\"http://www.w3.org/2000/svg\" height=\"24px\"viewBox=\"0 0 24 24\"\n",
              "     width=\"24px\">\n",
              "    <g>\n",
              "        <path d=\"M19 3H5c-1.1 0-2 .9-2 2v14c0 1.1.9 2 2 2h14c1.1 0 2-.9 2-2V5c0-1.1-.9-2-2-2zM9 17H7v-7h2v7zm4 0h-2V7h2v10zm4 0h-2v-4h2v4z\"/>\n",
              "    </g>\n",
              "</svg>\n",
              "      </button>\n",
              "    </div>\n",
              "\n",
              "<style>\n",
              "  .colab-df-quickchart {\n",
              "    background-color: #E8F0FE;\n",
              "    border: none;\n",
              "    border-radius: 50%;\n",
              "    cursor: pointer;\n",
              "    display: none;\n",
              "    fill: #1967D2;\n",
              "    height: 32px;\n",
              "    padding: 0 0 0 0;\n",
              "    width: 32px;\n",
              "  }\n",
              "\n",
              "  .colab-df-quickchart:hover {\n",
              "    background-color: #E2EBFA;\n",
              "    box-shadow: 0px 1px 2px rgba(60, 64, 67, 0.3), 0px 1px 3px 1px rgba(60, 64, 67, 0.15);\n",
              "    fill: #174EA6;\n",
              "  }\n",
              "\n",
              "  [theme=dark] .colab-df-quickchart {\n",
              "    background-color: #3B4455;\n",
              "    fill: #D2E3FC;\n",
              "  }\n",
              "\n",
              "  [theme=dark] .colab-df-quickchart:hover {\n",
              "    background-color: #434B5C;\n",
              "    box-shadow: 0px 1px 3px 1px rgba(0, 0, 0, 0.15);\n",
              "    filter: drop-shadow(0px 1px 2px rgba(0, 0, 0, 0.3));\n",
              "    fill: #FFFFFF;\n",
              "  }\n",
              "</style>\n",
              "\n",
              "    <script>\n",
              "      async function quickchart(key) {\n",
              "        const containerElement = document.querySelector('#' + key);\n",
              "        const charts = await google.colab.kernel.invokeFunction(\n",
              "            'suggestCharts', [key], {});\n",
              "      }\n",
              "    </script>\n",
              "\n",
              "      <script>\n",
              "\n",
              "function displayQuickchartButton(domScope) {\n",
              "  let quickchartButtonEl =\n",
              "    domScope.querySelector('#df-73e02cb1-f9a9-47e0-a551-23c9a4e0e5c9 button.colab-df-quickchart');\n",
              "  quickchartButtonEl.style.display =\n",
              "    google.colab.kernel.accessAllowed ? 'block' : 'none';\n",
              "}\n",
              "\n",
              "        displayQuickchartButton(document);\n",
              "      </script>\n",
              "      <style>\n",
              "    .colab-df-container {\n",
              "      display:flex;\n",
              "      flex-wrap:wrap;\n",
              "      gap: 12px;\n",
              "    }\n",
              "\n",
              "    .colab-df-convert {\n",
              "      background-color: #E8F0FE;\n",
              "      border: none;\n",
              "      border-radius: 50%;\n",
              "      cursor: pointer;\n",
              "      display: none;\n",
              "      fill: #1967D2;\n",
              "      height: 32px;\n",
              "      padding: 0 0 0 0;\n",
              "      width: 32px;\n",
              "    }\n",
              "\n",
              "    .colab-df-convert:hover {\n",
              "      background-color: #E2EBFA;\n",
              "      box-shadow: 0px 1px 2px rgba(60, 64, 67, 0.3), 0px 1px 3px 1px rgba(60, 64, 67, 0.15);\n",
              "      fill: #174EA6;\n",
              "    }\n",
              "\n",
              "    [theme=dark] .colab-df-convert {\n",
              "      background-color: #3B4455;\n",
              "      fill: #D2E3FC;\n",
              "    }\n",
              "\n",
              "    [theme=dark] .colab-df-convert:hover {\n",
              "      background-color: #434B5C;\n",
              "      box-shadow: 0px 1px 3px 1px rgba(0, 0, 0, 0.15);\n",
              "      filter: drop-shadow(0px 1px 2px rgba(0, 0, 0, 0.3));\n",
              "      fill: #FFFFFF;\n",
              "    }\n",
              "  </style>\n",
              "\n",
              "      <script>\n",
              "        const buttonEl =\n",
              "          document.querySelector('#df-151477c5-d813-4617-b38a-26156d412a0e button.colab-df-convert');\n",
              "        buttonEl.style.display =\n",
              "          google.colab.kernel.accessAllowed ? 'block' : 'none';\n",
              "\n",
              "        async function convertToInteractive(key) {\n",
              "          const element = document.querySelector('#df-151477c5-d813-4617-b38a-26156d412a0e');\n",
              "          const dataTable =\n",
              "            await google.colab.kernel.invokeFunction('convertToInteractive',\n",
              "                                                     [key], {});\n",
              "          if (!dataTable) return;\n",
              "\n",
              "          const docLinkHtml = 'Like what you see? Visit the ' +\n",
              "            '<a target=\"_blank\" href=https://colab.research.google.com/notebooks/data_table.ipynb>data table notebook</a>'\n",
              "            + ' to learn more about interactive tables.';\n",
              "          element.innerHTML = '';\n",
              "          dataTable['output_type'] = 'display_data';\n",
              "          await google.colab.output.renderOutput(dataTable, element);\n",
              "          const docLink = document.createElement('div');\n",
              "          docLink.innerHTML = docLinkHtml;\n",
              "          element.appendChild(docLink);\n",
              "        }\n",
              "      </script>\n",
              "    </div>\n",
              "  </div>\n"
            ]
          },
          "metadata": {},
          "execution_count": 14
        }
      ]
    },
    {
      "cell_type": "markdown",
      "source": [
        "\n",
        "\n",
        "*   keeping only 1 of the many highly correlated features\n",
        "\n",
        "\n"
      ],
      "metadata": {
        "id": "ptkwTmYlFWr6"
      }
    },
    {
      "cell_type": "code",
      "source": [
        "correlation_matrix = features.corr()\n",
        "threshold = 0.8\n",
        "correlated_features = set()\n",
        "for i in range(len(correlation_matrix.columns)):\n",
        "    for j in range(i):\n",
        "        if abs(correlation_matrix.iloc[i, j]) > threshold:\n",
        "            correlated_features.add(correlation_matrix.columns[i])\n",
        "df.drop(correlated_features, axis=1, inplace=True)\n"
      ],
      "metadata": {
        "id": "doHZpzkd4UlK"
      },
      "execution_count": null,
      "outputs": []
    },
    {
      "cell_type": "code",
      "source": [
        "df.head()"
      ],
      "metadata": {
        "colab": {
          "base_uri": "https://localhost:8080/",
          "height": 300
        },
        "id": "QIDGoKxP4vBc",
        "outputId": "7418ddf8-f2f4-464f-f38c-5e1b6b7e5aa5"
      },
      "execution_count": null,
      "outputs": [
        {
          "output_type": "execute_result",
          "data": {
            "text/plain": [
              "      Attr1    Attr2    Attr3   Attr4     Attr5     Attr6     Attr7   Attr9  \\\n",
              "0  0.088238  0.55472  0.01134  1.0205  -66.5200  0.342040  0.109490  1.0881   \n",
              "1 -0.006202  0.48465  0.23298  1.5998    6.1825  0.000000 -0.006202  1.2757   \n",
              "2  0.130240  0.22142  0.57751  3.6082  120.0400  0.187640  0.162120  1.1415   \n",
              "3 -0.089951  0.88700  0.26927  1.5222  -55.9920 -0.073957 -0.089951  1.2754   \n",
              "4  0.048179  0.55041  0.10765  1.2437  -22.9590  0.000000  0.059280  1.5150   \n",
              "\n",
              "     Attr13   Attr15  ...    Attr42  Attr43    Attr45  Attr47   Attr52  \\\n",
              "0  0.096885  1475.20  ...  0.095457  127.30  0.452890  54.621  0.42557   \n",
              "1  0.037544  3693.40  ...  0.001011  171.38 -0.029614  58.258  0.29604   \n",
              "2  0.165680   431.75  ...  0.129100  163.71  1.013700  47.382  0.22371   \n",
              "3  0.084038  3020.50  ...  0.000000  157.30 -0.539690  82.073  0.69565   \n",
              "4  0.055575  2386.10  ...  0.044632  125.21  0.321770  46.538  0.37618   \n",
              "\n",
              "       Attr55    Attr57    Attr59  Attr61  class  \n",
              "0  15182.0000  0.275430  0.002024  4.7343      0  \n",
              "1   2341.8000 -0.012035  0.152220  3.2749      0  \n",
              "2  33401.0000  0.192290  0.000000  2.9870      0  \n",
              "3   2789.6000 -0.796020  2.878700  3.3302      0  \n",
              "4      1.2437  0.107160  0.139380  4.0950      0  \n",
              "\n",
              "[5 rows x 31 columns]"
            ],
            "text/html": [
              "\n",
              "\n",
              "  <div id=\"df-48301502-8c1c-4f07-8d29-d3658f4bdb56\">\n",
              "    <div class=\"colab-df-container\">\n",
              "      <div>\n",
              "<style scoped>\n",
              "    .dataframe tbody tr th:only-of-type {\n",
              "        vertical-align: middle;\n",
              "    }\n",
              "\n",
              "    .dataframe tbody tr th {\n",
              "        vertical-align: top;\n",
              "    }\n",
              "\n",
              "    .dataframe thead th {\n",
              "        text-align: right;\n",
              "    }\n",
              "</style>\n",
              "<table border=\"1\" class=\"dataframe\">\n",
              "  <thead>\n",
              "    <tr style=\"text-align: right;\">\n",
              "      <th></th>\n",
              "      <th>Attr1</th>\n",
              "      <th>Attr2</th>\n",
              "      <th>Attr3</th>\n",
              "      <th>Attr4</th>\n",
              "      <th>Attr5</th>\n",
              "      <th>Attr6</th>\n",
              "      <th>Attr7</th>\n",
              "      <th>Attr9</th>\n",
              "      <th>Attr13</th>\n",
              "      <th>Attr15</th>\n",
              "      <th>...</th>\n",
              "      <th>Attr42</th>\n",
              "      <th>Attr43</th>\n",
              "      <th>Attr45</th>\n",
              "      <th>Attr47</th>\n",
              "      <th>Attr52</th>\n",
              "      <th>Attr55</th>\n",
              "      <th>Attr57</th>\n",
              "      <th>Attr59</th>\n",
              "      <th>Attr61</th>\n",
              "      <th>class</th>\n",
              "    </tr>\n",
              "  </thead>\n",
              "  <tbody>\n",
              "    <tr>\n",
              "      <th>0</th>\n",
              "      <td>0.088238</td>\n",
              "      <td>0.55472</td>\n",
              "      <td>0.01134</td>\n",
              "      <td>1.0205</td>\n",
              "      <td>-66.5200</td>\n",
              "      <td>0.342040</td>\n",
              "      <td>0.109490</td>\n",
              "      <td>1.0881</td>\n",
              "      <td>0.096885</td>\n",
              "      <td>1475.20</td>\n",
              "      <td>...</td>\n",
              "      <td>0.095457</td>\n",
              "      <td>127.30</td>\n",
              "      <td>0.452890</td>\n",
              "      <td>54.621</td>\n",
              "      <td>0.42557</td>\n",
              "      <td>15182.0000</td>\n",
              "      <td>0.275430</td>\n",
              "      <td>0.002024</td>\n",
              "      <td>4.7343</td>\n",
              "      <td>0</td>\n",
              "    </tr>\n",
              "    <tr>\n",
              "      <th>1</th>\n",
              "      <td>-0.006202</td>\n",
              "      <td>0.48465</td>\n",
              "      <td>0.23298</td>\n",
              "      <td>1.5998</td>\n",
              "      <td>6.1825</td>\n",
              "      <td>0.000000</td>\n",
              "      <td>-0.006202</td>\n",
              "      <td>1.2757</td>\n",
              "      <td>0.037544</td>\n",
              "      <td>3693.40</td>\n",
              "      <td>...</td>\n",
              "      <td>0.001011</td>\n",
              "      <td>171.38</td>\n",
              "      <td>-0.029614</td>\n",
              "      <td>58.258</td>\n",
              "      <td>0.29604</td>\n",
              "      <td>2341.8000</td>\n",
              "      <td>-0.012035</td>\n",
              "      <td>0.152220</td>\n",
              "      <td>3.2749</td>\n",
              "      <td>0</td>\n",
              "    </tr>\n",
              "    <tr>\n",
              "      <th>2</th>\n",
              "      <td>0.130240</td>\n",
              "      <td>0.22142</td>\n",
              "      <td>0.57751</td>\n",
              "      <td>3.6082</td>\n",
              "      <td>120.0400</td>\n",
              "      <td>0.187640</td>\n",
              "      <td>0.162120</td>\n",
              "      <td>1.1415</td>\n",
              "      <td>0.165680</td>\n",
              "      <td>431.75</td>\n",
              "      <td>...</td>\n",
              "      <td>0.129100</td>\n",
              "      <td>163.71</td>\n",
              "      <td>1.013700</td>\n",
              "      <td>47.382</td>\n",
              "      <td>0.22371</td>\n",
              "      <td>33401.0000</td>\n",
              "      <td>0.192290</td>\n",
              "      <td>0.000000</td>\n",
              "      <td>2.9870</td>\n",
              "      <td>0</td>\n",
              "    </tr>\n",
              "    <tr>\n",
              "      <th>3</th>\n",
              "      <td>-0.089951</td>\n",
              "      <td>0.88700</td>\n",
              "      <td>0.26927</td>\n",
              "      <td>1.5222</td>\n",
              "      <td>-55.9920</td>\n",
              "      <td>-0.073957</td>\n",
              "      <td>-0.089951</td>\n",
              "      <td>1.2754</td>\n",
              "      <td>0.084038</td>\n",
              "      <td>3020.50</td>\n",
              "      <td>...</td>\n",
              "      <td>0.000000</td>\n",
              "      <td>157.30</td>\n",
              "      <td>-0.539690</td>\n",
              "      <td>82.073</td>\n",
              "      <td>0.69565</td>\n",
              "      <td>2789.6000</td>\n",
              "      <td>-0.796020</td>\n",
              "      <td>2.878700</td>\n",
              "      <td>3.3302</td>\n",
              "      <td>0</td>\n",
              "    </tr>\n",
              "    <tr>\n",
              "      <th>4</th>\n",
              "      <td>0.048179</td>\n",
              "      <td>0.55041</td>\n",
              "      <td>0.10765</td>\n",
              "      <td>1.2437</td>\n",
              "      <td>-22.9590</td>\n",
              "      <td>0.000000</td>\n",
              "      <td>0.059280</td>\n",
              "      <td>1.5150</td>\n",
              "      <td>0.055575</td>\n",
              "      <td>2386.10</td>\n",
              "      <td>...</td>\n",
              "      <td>0.044632</td>\n",
              "      <td>125.21</td>\n",
              "      <td>0.321770</td>\n",
              "      <td>46.538</td>\n",
              "      <td>0.37618</td>\n",
              "      <td>1.2437</td>\n",
              "      <td>0.107160</td>\n",
              "      <td>0.139380</td>\n",
              "      <td>4.0950</td>\n",
              "      <td>0</td>\n",
              "    </tr>\n",
              "  </tbody>\n",
              "</table>\n",
              "<p>5 rows × 31 columns</p>\n",
              "</div>\n",
              "      <button class=\"colab-df-convert\" onclick=\"convertToInteractive('df-48301502-8c1c-4f07-8d29-d3658f4bdb56')\"\n",
              "              title=\"Convert this dataframe to an interactive table.\"\n",
              "              style=\"display:none;\">\n",
              "\n",
              "  <svg xmlns=\"http://www.w3.org/2000/svg\" height=\"24px\"viewBox=\"0 0 24 24\"\n",
              "       width=\"24px\">\n",
              "    <path d=\"M0 0h24v24H0V0z\" fill=\"none\"/>\n",
              "    <path d=\"M18.56 5.44l.94 2.06.94-2.06 2.06-.94-2.06-.94-.94-2.06-.94 2.06-2.06.94zm-11 1L8.5 8.5l.94-2.06 2.06-.94-2.06-.94L8.5 2.5l-.94 2.06-2.06.94zm10 10l.94 2.06.94-2.06 2.06-.94-2.06-.94-.94-2.06-.94 2.06-2.06.94z\"/><path d=\"M17.41 7.96l-1.37-1.37c-.4-.4-.92-.59-1.43-.59-.52 0-1.04.2-1.43.59L10.3 9.45l-7.72 7.72c-.78.78-.78 2.05 0 2.83L4 21.41c.39.39.9.59 1.41.59.51 0 1.02-.2 1.41-.59l7.78-7.78 2.81-2.81c.8-.78.8-2.07 0-2.86zM5.41 20L4 18.59l7.72-7.72 1.47 1.35L5.41 20z\"/>\n",
              "  </svg>\n",
              "      </button>\n",
              "\n",
              "\n",
              "\n",
              "    <div id=\"df-bd468ab4-42c3-423a-a962-c8429519b0d3\">\n",
              "      <button class=\"colab-df-quickchart\" onclick=\"quickchart('df-bd468ab4-42c3-423a-a962-c8429519b0d3')\"\n",
              "              title=\"Suggest charts.\"\n",
              "              style=\"display:none;\">\n",
              "\n",
              "<svg xmlns=\"http://www.w3.org/2000/svg\" height=\"24px\"viewBox=\"0 0 24 24\"\n",
              "     width=\"24px\">\n",
              "    <g>\n",
              "        <path d=\"M19 3H5c-1.1 0-2 .9-2 2v14c0 1.1.9 2 2 2h14c1.1 0 2-.9 2-2V5c0-1.1-.9-2-2-2zM9 17H7v-7h2v7zm4 0h-2V7h2v10zm4 0h-2v-4h2v4z\"/>\n",
              "    </g>\n",
              "</svg>\n",
              "      </button>\n",
              "    </div>\n",
              "\n",
              "<style>\n",
              "  .colab-df-quickchart {\n",
              "    background-color: #E8F0FE;\n",
              "    border: none;\n",
              "    border-radius: 50%;\n",
              "    cursor: pointer;\n",
              "    display: none;\n",
              "    fill: #1967D2;\n",
              "    height: 32px;\n",
              "    padding: 0 0 0 0;\n",
              "    width: 32px;\n",
              "  }\n",
              "\n",
              "  .colab-df-quickchart:hover {\n",
              "    background-color: #E2EBFA;\n",
              "    box-shadow: 0px 1px 2px rgba(60, 64, 67, 0.3), 0px 1px 3px 1px rgba(60, 64, 67, 0.15);\n",
              "    fill: #174EA6;\n",
              "  }\n",
              "\n",
              "  [theme=dark] .colab-df-quickchart {\n",
              "    background-color: #3B4455;\n",
              "    fill: #D2E3FC;\n",
              "  }\n",
              "\n",
              "  [theme=dark] .colab-df-quickchart:hover {\n",
              "    background-color: #434B5C;\n",
              "    box-shadow: 0px 1px 3px 1px rgba(0, 0, 0, 0.15);\n",
              "    filter: drop-shadow(0px 1px 2px rgba(0, 0, 0, 0.3));\n",
              "    fill: #FFFFFF;\n",
              "  }\n",
              "</style>\n",
              "\n",
              "    <script>\n",
              "      async function quickchart(key) {\n",
              "        const containerElement = document.querySelector('#' + key);\n",
              "        const charts = await google.colab.kernel.invokeFunction(\n",
              "            'suggestCharts', [key], {});\n",
              "      }\n",
              "    </script>\n",
              "\n",
              "      <script>\n",
              "\n",
              "function displayQuickchartButton(domScope) {\n",
              "  let quickchartButtonEl =\n",
              "    domScope.querySelector('#df-bd468ab4-42c3-423a-a962-c8429519b0d3 button.colab-df-quickchart');\n",
              "  quickchartButtonEl.style.display =\n",
              "    google.colab.kernel.accessAllowed ? 'block' : 'none';\n",
              "}\n",
              "\n",
              "        displayQuickchartButton(document);\n",
              "      </script>\n",
              "      <style>\n",
              "    .colab-df-container {\n",
              "      display:flex;\n",
              "      flex-wrap:wrap;\n",
              "      gap: 12px;\n",
              "    }\n",
              "\n",
              "    .colab-df-convert {\n",
              "      background-color: #E8F0FE;\n",
              "      border: none;\n",
              "      border-radius: 50%;\n",
              "      cursor: pointer;\n",
              "      display: none;\n",
              "      fill: #1967D2;\n",
              "      height: 32px;\n",
              "      padding: 0 0 0 0;\n",
              "      width: 32px;\n",
              "    }\n",
              "\n",
              "    .colab-df-convert:hover {\n",
              "      background-color: #E2EBFA;\n",
              "      box-shadow: 0px 1px 2px rgba(60, 64, 67, 0.3), 0px 1px 3px 1px rgba(60, 64, 67, 0.15);\n",
              "      fill: #174EA6;\n",
              "    }\n",
              "\n",
              "    [theme=dark] .colab-df-convert {\n",
              "      background-color: #3B4455;\n",
              "      fill: #D2E3FC;\n",
              "    }\n",
              "\n",
              "    [theme=dark] .colab-df-convert:hover {\n",
              "      background-color: #434B5C;\n",
              "      box-shadow: 0px 1px 3px 1px rgba(0, 0, 0, 0.15);\n",
              "      filter: drop-shadow(0px 1px 2px rgba(0, 0, 0, 0.3));\n",
              "      fill: #FFFFFF;\n",
              "    }\n",
              "  </style>\n",
              "\n",
              "      <script>\n",
              "        const buttonEl =\n",
              "          document.querySelector('#df-48301502-8c1c-4f07-8d29-d3658f4bdb56 button.colab-df-convert');\n",
              "        buttonEl.style.display =\n",
              "          google.colab.kernel.accessAllowed ? 'block' : 'none';\n",
              "\n",
              "        async function convertToInteractive(key) {\n",
              "          const element = document.querySelector('#df-48301502-8c1c-4f07-8d29-d3658f4bdb56');\n",
              "          const dataTable =\n",
              "            await google.colab.kernel.invokeFunction('convertToInteractive',\n",
              "                                                     [key], {});\n",
              "          if (!dataTable) return;\n",
              "\n",
              "          const docLinkHtml = 'Like what you see? Visit the ' +\n",
              "            '<a target=\"_blank\" href=https://colab.research.google.com/notebooks/data_table.ipynb>data table notebook</a>'\n",
              "            + ' to learn more about interactive tables.';\n",
              "          element.innerHTML = '';\n",
              "          dataTable['output_type'] = 'display_data';\n",
              "          await google.colab.output.renderOutput(dataTable, element);\n",
              "          const docLink = document.createElement('div');\n",
              "          docLink.innerHTML = docLinkHtml;\n",
              "          element.appendChild(docLink);\n",
              "        }\n",
              "      </script>\n",
              "    </div>\n",
              "  </div>\n"
            ]
          },
          "metadata": {},
          "execution_count": 16
        }
      ]
    },
    {
      "cell_type": "markdown",
      "source": [
        "\n",
        "\n",
        "*  Reduced the feature space from 64 to 31 while keeping the variance (information)\n",
        "\n"
      ],
      "metadata": {
        "id": "y2N-IgGeFeIe"
      }
    },
    {
      "cell_type": "code",
      "source": [
        "df.shape"
      ],
      "metadata": {
        "colab": {
          "base_uri": "https://localhost:8080/"
        },
        "id": "gSKTx2QC4wfE",
        "outputId": "453d274f-eb99-4fb5-c7bc-f3862aa6c97a"
      },
      "execution_count": null,
      "outputs": [
        {
          "output_type": "execute_result",
          "data": {
            "text/plain": [
              "(5910, 31)"
            ]
          },
          "metadata": {},
          "execution_count": 17
        }
      ]
    },
    {
      "cell_type": "markdown",
      "source": [
        "Preparation for Model Training"
      ],
      "metadata": {
        "id": "8icvXAa6FnI5"
      }
    },
    {
      "cell_type": "code",
      "source": [
        "from sklearn.model_selection import train_test_split\n",
        "from sklearn.preprocessing import StandardScaler\n",
        "from sklearn.metrics import accuracy_score\n",
        "from sklearn.linear_model import LogisticRegression\n",
        "from sklearn import svm\n",
        "from sklearn.tree import DecisionTreeClassifier\n",
        "from sklearn.ensemble import RandomForestClassifier\n",
        "from sklearn.model_selection import KFold\n",
        "import numpy as np"
      ],
      "metadata": {
        "id": "mi62qYZp5AL4"
      },
      "execution_count": null,
      "outputs": []
    },
    {
      "cell_type": "code",
      "source": [
        "x = df.drop('class', axis = 1)\n",
        "y = df['class']"
      ],
      "metadata": {
        "id": "ZIjRFtHI4yqf"
      },
      "execution_count": null,
      "outputs": []
    },
    {
      "cell_type": "code",
      "source": [
        "# standardizing the data\n",
        "ss = StandardScaler()\n",
        "x_norm = ss.fit_transform(x)"
      ],
      "metadata": {
        "id": "c7-AYzgdF8sw"
      },
      "execution_count": null,
      "outputs": []
    },
    {
      "cell_type": "code",
      "source": [
        "print(x_norm.std())"
      ],
      "metadata": {
        "colab": {
          "base_uri": "https://localhost:8080/"
        },
        "id": "L53wwFYP5g08",
        "outputId": "f0743b27-bea0-4bb4-88d1-d35e3d4b672e"
      },
      "execution_count": null,
      "outputs": [
        {
          "output_type": "stream",
          "name": "stdout",
          "text": [
            "1.0\n"
          ]
        }
      ]
    },
    {
      "cell_type": "markdown",
      "source": [
        "With Class Imbalance"
      ],
      "metadata": {
        "id": "oZTwPgTNDPBx"
      }
    },
    {
      "cell_type": "code",
      "source": [
        "# logistic regression\n",
        "kfold = KFold(n_splits= 5, random_state = 42, shuffle = True)\n",
        "acc_score = []\n",
        "\n",
        "for train_indices, test_indices in kfold.split(x_norm):\n",
        "\n",
        "    X_train, X_test = x_norm[train_indices], x_norm[test_indices]\n",
        "    y_train, y_test = y.iloc[train_indices], y.iloc[test_indices]\n",
        "\n",
        "    model = LogisticRegression()\n",
        "    model.fit(X_train, y_train)\n",
        "\n",
        "    y_pred = model.predict(X_test)\n",
        "\n",
        "    acc = accuracy_score(y_test, y_pred)\n",
        "\n",
        "    acc_score.append(acc)\n",
        "\n",
        "average_acc = np.mean(acc_score)\n",
        "\n",
        "print(\"ACC scores:\", acc_score)\n",
        "print(\"Average accuracy:\", average_acc)\n"
      ],
      "metadata": {
        "colab": {
          "base_uri": "https://localhost:8080/"
        },
        "id": "mkHUsdxP6X3y",
        "outputId": "843d6961-ce15-44e0-d056-c0882e68949e"
      },
      "execution_count": null,
      "outputs": [
        {
          "output_type": "stream",
          "name": "stdout",
          "text": [
            "ACC scores: [0.9204737732656514, 0.934010152284264, 0.928087986463621, 0.9314720812182741, 0.9306260575296108]\n",
            "Average accuracy: 0.9289340101522843\n"
          ]
        }
      ]
    },
    {
      "cell_type": "code",
      "source": [
        "# svm (linear kernel)\n",
        "acc_score = []\n",
        "\n",
        "for train_indices, test_indices in kfold.split(x_norm):\n",
        "\n",
        "    X_train, X_test = x_norm[train_indices], x_norm[test_indices]\n",
        "    y_train, y_test = y.iloc[train_indices], y.iloc[test_indices]\n",
        "\n",
        "    model = svm.SVC(kernel = 'linear')\n",
        "    model.fit(X_train, y_train)\n",
        "\n",
        "    y_pred = model.predict(X_test)\n",
        "\n",
        "    acc = accuracy_score(y_test, y_pred)\n",
        "\n",
        "    acc_score.append(acc)\n",
        "\n",
        "average_acc = np.mean(acc_score)\n",
        "\n",
        "print(\"ACC scores:\", acc_score)\n",
        "print(\"Average accuracy:\", average_acc)\n"
      ],
      "metadata": {
        "colab": {
          "base_uri": "https://localhost:8080/"
        },
        "id": "qDmnheG8CEFg",
        "outputId": "ea05554f-2741-4b6c-d2c1-4c7024d13322"
      },
      "execution_count": null,
      "outputs": [
        {
          "output_type": "stream",
          "name": "stdout",
          "text": [
            "ACC scores: [0.9230118443316413, 0.934010152284264, 0.9306260575296108, 0.9323181049069373, 0.9314720812182741]\n",
            "Average accuracy: 0.9302876480541455\n"
          ]
        }
      ]
    },
    {
      "cell_type": "code",
      "source": [
        "# svm (rbf kernel)\n",
        "acc_score = []\n",
        "\n",
        "for train_indices, test_indices in kfold.split(x_norm):\n",
        "\n",
        "    X_train, X_test = x_norm[train_indices], x_norm[test_indices]\n",
        "    y_train, y_test = y.iloc[train_indices], y.iloc[test_indices]\n",
        "\n",
        "    model = svm.SVC(kernel = 'rbf')\n",
        "    model.fit(X_train, y_train)\n",
        "\n",
        "    y_pred = model.predict(X_test)\n",
        "\n",
        "    acc = accuracy_score(y_test, y_pred)\n",
        "\n",
        "    acc_score.append(acc)\n",
        "\n",
        "average_acc = np.mean(acc_score)\n",
        "\n",
        "print(\"ACC scores:\", acc_score)\n",
        "print(\"Average accuracy:\", average_acc)\n"
      ],
      "metadata": {
        "colab": {
          "base_uri": "https://localhost:8080/"
        },
        "id": "58E76Z9KCNDv",
        "outputId": "3c016c8b-e5c4-4f1f-b661-34956ff710ea"
      },
      "execution_count": null,
      "outputs": [
        {
          "output_type": "stream",
          "name": "stdout",
          "text": [
            "ACC scores: [0.9263959390862944, 0.9365482233502538, 0.9306260575296108, 0.9314720812182741, 0.9306260575296108]\n",
            "Average accuracy: 0.9311336717428087\n"
          ]
        }
      ]
    },
    {
      "cell_type": "code",
      "source": [
        "# Decision Tree\n",
        "acc_score = []\n",
        "\n",
        "for train_indices, test_indices in kfold.split(x_norm):\n",
        "\n",
        "    X_train, X_test = x_norm[train_indices], x_norm[test_indices]\n",
        "    y_train, y_test = y.iloc[train_indices], y.iloc[test_indices]\n",
        "\n",
        "    model = DecisionTreeClassifier(max_leaf_nodes = 100)\n",
        "    model.fit(X_train, y_train)\n",
        "\n",
        "    y_pred = model.predict(X_test)\n",
        "\n",
        "    acc = accuracy_score(y_test, y_pred)\n",
        "\n",
        "    acc_score.append(acc)\n",
        "\n",
        "average_acc = np.mean(acc_score)\n",
        "\n",
        "print(\"ACC scores:\", acc_score)\n",
        "print(\"Average accuracy:\", average_acc)\n"
      ],
      "metadata": {
        "colab": {
          "base_uri": "https://localhost:8080/"
        },
        "id": "ZoqpcXYhCilN",
        "outputId": "5c4d3570-f089-4e91-dd6f-2282b7dee746"
      },
      "execution_count": null,
      "outputs": [
        {
          "output_type": "stream",
          "name": "stdout",
          "text": [
            "ACC scores: [0.9365482233502538, 0.9526226734348562, 0.9441624365482234, 0.9407783417935702, 0.9416243654822335]\n",
            "Average accuracy: 0.9431472081218274\n"
          ]
        }
      ]
    },
    {
      "cell_type": "code",
      "source": [
        "# Random Forest\n",
        "acc_score = []\n",
        "\n",
        "for train_indices, test_indices in kfold.split(x_norm):\n",
        "\n",
        "    X_train, X_test = x_norm[train_indices], x_norm[test_indices]\n",
        "    y_train, y_test = y.iloc[train_indices], y.iloc[test_indices]\n",
        "\n",
        "    model = RandomForestClassifier(max_leaf_nodes = 100, n_estimators = 100)\n",
        "    model.fit(X_train, y_train)\n",
        "\n",
        "    y_pred = model.predict(X_test)\n",
        "\n",
        "    acc = accuracy_score(y_test, y_pred)\n",
        "\n",
        "    acc_score.append(acc)\n",
        "\n",
        "average_acc = np.mean(acc_score)\n",
        "\n",
        "print(\"ACC scores:\", acc_score)\n",
        "print(\"Average accuracy:\", average_acc)\n"
      ],
      "metadata": {
        "colab": {
          "base_uri": "https://localhost:8080/"
        },
        "id": "0TQgEqxyCpwH",
        "outputId": "52127184-2eed-4ef1-d994-678d81c46664"
      },
      "execution_count": null,
      "outputs": [
        {
          "output_type": "stream",
          "name": "stdout",
          "text": [
            "ACC scores: [0.9416243654822335, 0.9534686971235194, 0.9467005076142132, 0.9560067681895094, 0.9534686971235194]\n",
            "Average accuracy: 0.950253807106599\n"
          ]
        }
      ]
    },
    {
      "cell_type": "markdown",
      "source": [
        "With Class Imbalance, the model performance worsens in some validation folds"
      ],
      "metadata": {
        "id": "W1BaV0aBGChP"
      }
    },
    {
      "cell_type": "markdown",
      "source": [
        "Handling Class Imbalance"
      ],
      "metadata": {
        "id": "DyVTLB5fDSpz"
      }
    },
    {
      "cell_type": "markdown",
      "source": [
        "(1) Using 410 non- bankrupt companies (Under-Sampling)"
      ],
      "metadata": {
        "id": "zTOQuD-tDVT0"
      }
    },
    {
      "cell_type": "code",
      "source": [
        "df['class'].value_counts()"
      ],
      "metadata": {
        "colab": {
          "base_uri": "https://localhost:8080/"
        },
        "id": "i7coJKZNC5bc",
        "outputId": "525d5d21-0746-41ec-c8c8-8f883b4d4e6c"
      },
      "execution_count": null,
      "outputs": [
        {
          "output_type": "execute_result",
          "data": {
            "text/plain": [
              "0    5500\n",
              "1     410\n",
              "Name: class, dtype: int64"
            ]
          },
          "metadata": {},
          "execution_count": 93
        }
      ]
    },
    {
      "cell_type": "code",
      "source": [
        "df_1 = df[df['class'] == 1]\n",
        "df_0 = df[df['class'] == 0]\n",
        "\n",
        "df_0_minus = df_0.iloc[:410,:]\n",
        "\n",
        "minus_df = pd.concat([df_1, df_0_minus], axis=0)\n",
        "\n",
        "# Shuffle the rows\n",
        "shuffled_df = minus_df.sample(frac=1, random_state=42).reset_index(drop=True)\n",
        "shuffled_df = pd.DataFrame(shuffled_df)"
      ],
      "metadata": {
        "id": "1GiurMlYDd4u"
      },
      "execution_count": null,
      "outputs": []
    },
    {
      "cell_type": "code",
      "source": [
        "shuffled_df.head()"
      ],
      "metadata": {
        "colab": {
          "base_uri": "https://localhost:8080/",
          "height": 300
        },
        "id": "ZQ8c_LimEB_Y",
        "outputId": "16eef08d-aadf-40a0-9045-588bd1510142"
      },
      "execution_count": null,
      "outputs": [
        {
          "output_type": "execute_result",
          "data": {
            "text/plain": [
              "      Attr1     Attr2     Attr3     Attr4    Attr5    Attr6     Attr7  \\\n",
              "0  0.050289  0.927620  0.047533   1.05120  -38.251 -0.10358  0.050370   \n",
              "1 -0.008047  0.070891  0.932710  57.75100   66.963  0.00000 -0.008047   \n",
              "2 -0.012325  0.747150 -0.057263   0.78347  -91.762  0.00000 -0.012325   \n",
              "3  0.174440  0.549060  0.280100   1.55000  -10.833  0.60280  0.217750   \n",
              "4 -3.046300  6.906900 -5.997000   0.13174 -137.270 -3.73760 -3.046300   \n",
              "\n",
              "      Attr9    Attr13   Attr15  ...    Attr42   Attr43     Attr45   Attr47  \\\n",
              "0   2.88360  0.020979  5596.80  ...  0.017503  122.580   0.145860  44.4680   \n",
              "1   4.54840  0.017217   330.41  ...  0.016299   20.726  66.633356   0.0000   \n",
              "2   0.79078  0.143800  2398.20  ... -0.004967   94.979  -0.095721  55.4010   \n",
              "3   1.05060  0.055486   827.86  ...  0.047129   55.366   0.791980  19.3590   \n",
              "4  13.47700 -0.224120  -834.66  ... -0.201860   23.994 -19.589000   3.5008   \n",
              "\n",
              "     Attr52    Attr55    Attr57    Attr59   Attr61  class  \n",
              "0  0.327790    107.80  0.694820  0.000000   4.6239      0  \n",
              "1  0.003231  12820.00 -0.008661  0.000000  17.6110      1  \n",
              "2  0.311760   -140.41 -0.048759  0.000000  10.2670      1  \n",
              "3  0.122640  49626.00  0.386840  0.088172   9.8811      0  \n",
              "4  0.426000  -2047.40  0.515870  0.000000  18.4510      1  \n",
              "\n",
              "[5 rows x 31 columns]"
            ],
            "text/html": [
              "\n",
              "\n",
              "  <div id=\"df-54896643-b508-423b-9124-e5ba138c91bd\">\n",
              "    <div class=\"colab-df-container\">\n",
              "      <div>\n",
              "<style scoped>\n",
              "    .dataframe tbody tr th:only-of-type {\n",
              "        vertical-align: middle;\n",
              "    }\n",
              "\n",
              "    .dataframe tbody tr th {\n",
              "        vertical-align: top;\n",
              "    }\n",
              "\n",
              "    .dataframe thead th {\n",
              "        text-align: right;\n",
              "    }\n",
              "</style>\n",
              "<table border=\"1\" class=\"dataframe\">\n",
              "  <thead>\n",
              "    <tr style=\"text-align: right;\">\n",
              "      <th></th>\n",
              "      <th>Attr1</th>\n",
              "      <th>Attr2</th>\n",
              "      <th>Attr3</th>\n",
              "      <th>Attr4</th>\n",
              "      <th>Attr5</th>\n",
              "      <th>Attr6</th>\n",
              "      <th>Attr7</th>\n",
              "      <th>Attr9</th>\n",
              "      <th>Attr13</th>\n",
              "      <th>Attr15</th>\n",
              "      <th>...</th>\n",
              "      <th>Attr42</th>\n",
              "      <th>Attr43</th>\n",
              "      <th>Attr45</th>\n",
              "      <th>Attr47</th>\n",
              "      <th>Attr52</th>\n",
              "      <th>Attr55</th>\n",
              "      <th>Attr57</th>\n",
              "      <th>Attr59</th>\n",
              "      <th>Attr61</th>\n",
              "      <th>class</th>\n",
              "    </tr>\n",
              "  </thead>\n",
              "  <tbody>\n",
              "    <tr>\n",
              "      <th>0</th>\n",
              "      <td>0.050289</td>\n",
              "      <td>0.927620</td>\n",
              "      <td>0.047533</td>\n",
              "      <td>1.05120</td>\n",
              "      <td>-38.251</td>\n",
              "      <td>-0.10358</td>\n",
              "      <td>0.050370</td>\n",
              "      <td>2.88360</td>\n",
              "      <td>0.020979</td>\n",
              "      <td>5596.80</td>\n",
              "      <td>...</td>\n",
              "      <td>0.017503</td>\n",
              "      <td>122.580</td>\n",
              "      <td>0.145860</td>\n",
              "      <td>44.4680</td>\n",
              "      <td>0.327790</td>\n",
              "      <td>107.80</td>\n",
              "      <td>0.694820</td>\n",
              "      <td>0.000000</td>\n",
              "      <td>4.6239</td>\n",
              "      <td>0</td>\n",
              "    </tr>\n",
              "    <tr>\n",
              "      <th>1</th>\n",
              "      <td>-0.008047</td>\n",
              "      <td>0.070891</td>\n",
              "      <td>0.932710</td>\n",
              "      <td>57.75100</td>\n",
              "      <td>66.963</td>\n",
              "      <td>0.00000</td>\n",
              "      <td>-0.008047</td>\n",
              "      <td>4.54840</td>\n",
              "      <td>0.017217</td>\n",
              "      <td>330.41</td>\n",
              "      <td>...</td>\n",
              "      <td>0.016299</td>\n",
              "      <td>20.726</td>\n",
              "      <td>66.633356</td>\n",
              "      <td>0.0000</td>\n",
              "      <td>0.003231</td>\n",
              "      <td>12820.00</td>\n",
              "      <td>-0.008661</td>\n",
              "      <td>0.000000</td>\n",
              "      <td>17.6110</td>\n",
              "      <td>1</td>\n",
              "    </tr>\n",
              "    <tr>\n",
              "      <th>2</th>\n",
              "      <td>-0.012325</td>\n",
              "      <td>0.747150</td>\n",
              "      <td>-0.057263</td>\n",
              "      <td>0.78347</td>\n",
              "      <td>-91.762</td>\n",
              "      <td>0.00000</td>\n",
              "      <td>-0.012325</td>\n",
              "      <td>0.79078</td>\n",
              "      <td>0.143800</td>\n",
              "      <td>2398.20</td>\n",
              "      <td>...</td>\n",
              "      <td>-0.004967</td>\n",
              "      <td>94.979</td>\n",
              "      <td>-0.095721</td>\n",
              "      <td>55.4010</td>\n",
              "      <td>0.311760</td>\n",
              "      <td>-140.41</td>\n",
              "      <td>-0.048759</td>\n",
              "      <td>0.000000</td>\n",
              "      <td>10.2670</td>\n",
              "      <td>1</td>\n",
              "    </tr>\n",
              "    <tr>\n",
              "      <th>3</th>\n",
              "      <td>0.174440</td>\n",
              "      <td>0.549060</td>\n",
              "      <td>0.280100</td>\n",
              "      <td>1.55000</td>\n",
              "      <td>-10.833</td>\n",
              "      <td>0.60280</td>\n",
              "      <td>0.217750</td>\n",
              "      <td>1.05060</td>\n",
              "      <td>0.055486</td>\n",
              "      <td>827.86</td>\n",
              "      <td>...</td>\n",
              "      <td>0.047129</td>\n",
              "      <td>55.366</td>\n",
              "      <td>0.791980</td>\n",
              "      <td>19.3590</td>\n",
              "      <td>0.122640</td>\n",
              "      <td>49626.00</td>\n",
              "      <td>0.386840</td>\n",
              "      <td>0.088172</td>\n",
              "      <td>9.8811</td>\n",
              "      <td>0</td>\n",
              "    </tr>\n",
              "    <tr>\n",
              "      <th>4</th>\n",
              "      <td>-3.046300</td>\n",
              "      <td>6.906900</td>\n",
              "      <td>-5.997000</td>\n",
              "      <td>0.13174</td>\n",
              "      <td>-137.270</td>\n",
              "      <td>-3.73760</td>\n",
              "      <td>-3.046300</td>\n",
              "      <td>13.47700</td>\n",
              "      <td>-0.224120</td>\n",
              "      <td>-834.66</td>\n",
              "      <td>...</td>\n",
              "      <td>-0.201860</td>\n",
              "      <td>23.994</td>\n",
              "      <td>-19.589000</td>\n",
              "      <td>3.5008</td>\n",
              "      <td>0.426000</td>\n",
              "      <td>-2047.40</td>\n",
              "      <td>0.515870</td>\n",
              "      <td>0.000000</td>\n",
              "      <td>18.4510</td>\n",
              "      <td>1</td>\n",
              "    </tr>\n",
              "  </tbody>\n",
              "</table>\n",
              "<p>5 rows × 31 columns</p>\n",
              "</div>\n",
              "      <button class=\"colab-df-convert\" onclick=\"convertToInteractive('df-54896643-b508-423b-9124-e5ba138c91bd')\"\n",
              "              title=\"Convert this dataframe to an interactive table.\"\n",
              "              style=\"display:none;\">\n",
              "\n",
              "  <svg xmlns=\"http://www.w3.org/2000/svg\" height=\"24px\"viewBox=\"0 0 24 24\"\n",
              "       width=\"24px\">\n",
              "    <path d=\"M0 0h24v24H0V0z\" fill=\"none\"/>\n",
              "    <path d=\"M18.56 5.44l.94 2.06.94-2.06 2.06-.94-2.06-.94-.94-2.06-.94 2.06-2.06.94zm-11 1L8.5 8.5l.94-2.06 2.06-.94-2.06-.94L8.5 2.5l-.94 2.06-2.06.94zm10 10l.94 2.06.94-2.06 2.06-.94-2.06-.94-.94-2.06-.94 2.06-2.06.94z\"/><path d=\"M17.41 7.96l-1.37-1.37c-.4-.4-.92-.59-1.43-.59-.52 0-1.04.2-1.43.59L10.3 9.45l-7.72 7.72c-.78.78-.78 2.05 0 2.83L4 21.41c.39.39.9.59 1.41.59.51 0 1.02-.2 1.41-.59l7.78-7.78 2.81-2.81c.8-.78.8-2.07 0-2.86zM5.41 20L4 18.59l7.72-7.72 1.47 1.35L5.41 20z\"/>\n",
              "  </svg>\n",
              "      </button>\n",
              "\n",
              "\n",
              "\n",
              "    <div id=\"df-cea36133-e139-49cf-9a9a-aa406dde05b5\">\n",
              "      <button class=\"colab-df-quickchart\" onclick=\"quickchart('df-cea36133-e139-49cf-9a9a-aa406dde05b5')\"\n",
              "              title=\"Suggest charts.\"\n",
              "              style=\"display:none;\">\n",
              "\n",
              "<svg xmlns=\"http://www.w3.org/2000/svg\" height=\"24px\"viewBox=\"0 0 24 24\"\n",
              "     width=\"24px\">\n",
              "    <g>\n",
              "        <path d=\"M19 3H5c-1.1 0-2 .9-2 2v14c0 1.1.9 2 2 2h14c1.1 0 2-.9 2-2V5c0-1.1-.9-2-2-2zM9 17H7v-7h2v7zm4 0h-2V7h2v10zm4 0h-2v-4h2v4z\"/>\n",
              "    </g>\n",
              "</svg>\n",
              "      </button>\n",
              "    </div>\n",
              "\n",
              "<style>\n",
              "  .colab-df-quickchart {\n",
              "    background-color: #E8F0FE;\n",
              "    border: none;\n",
              "    border-radius: 50%;\n",
              "    cursor: pointer;\n",
              "    display: none;\n",
              "    fill: #1967D2;\n",
              "    height: 32px;\n",
              "    padding: 0 0 0 0;\n",
              "    width: 32px;\n",
              "  }\n",
              "\n",
              "  .colab-df-quickchart:hover {\n",
              "    background-color: #E2EBFA;\n",
              "    box-shadow: 0px 1px 2px rgba(60, 64, 67, 0.3), 0px 1px 3px 1px rgba(60, 64, 67, 0.15);\n",
              "    fill: #174EA6;\n",
              "  }\n",
              "\n",
              "  [theme=dark] .colab-df-quickchart {\n",
              "    background-color: #3B4455;\n",
              "    fill: #D2E3FC;\n",
              "  }\n",
              "\n",
              "  [theme=dark] .colab-df-quickchart:hover {\n",
              "    background-color: #434B5C;\n",
              "    box-shadow: 0px 1px 3px 1px rgba(0, 0, 0, 0.15);\n",
              "    filter: drop-shadow(0px 1px 2px rgba(0, 0, 0, 0.3));\n",
              "    fill: #FFFFFF;\n",
              "  }\n",
              "</style>\n",
              "\n",
              "    <script>\n",
              "      async function quickchart(key) {\n",
              "        const containerElement = document.querySelector('#' + key);\n",
              "        const charts = await google.colab.kernel.invokeFunction(\n",
              "            'suggestCharts', [key], {});\n",
              "      }\n",
              "    </script>\n",
              "\n",
              "      <script>\n",
              "\n",
              "function displayQuickchartButton(domScope) {\n",
              "  let quickchartButtonEl =\n",
              "    domScope.querySelector('#df-cea36133-e139-49cf-9a9a-aa406dde05b5 button.colab-df-quickchart');\n",
              "  quickchartButtonEl.style.display =\n",
              "    google.colab.kernel.accessAllowed ? 'block' : 'none';\n",
              "}\n",
              "\n",
              "        displayQuickchartButton(document);\n",
              "      </script>\n",
              "      <style>\n",
              "    .colab-df-container {\n",
              "      display:flex;\n",
              "      flex-wrap:wrap;\n",
              "      gap: 12px;\n",
              "    }\n",
              "\n",
              "    .colab-df-convert {\n",
              "      background-color: #E8F0FE;\n",
              "      border: none;\n",
              "      border-radius: 50%;\n",
              "      cursor: pointer;\n",
              "      display: none;\n",
              "      fill: #1967D2;\n",
              "      height: 32px;\n",
              "      padding: 0 0 0 0;\n",
              "      width: 32px;\n",
              "    }\n",
              "\n",
              "    .colab-df-convert:hover {\n",
              "      background-color: #E2EBFA;\n",
              "      box-shadow: 0px 1px 2px rgba(60, 64, 67, 0.3), 0px 1px 3px 1px rgba(60, 64, 67, 0.15);\n",
              "      fill: #174EA6;\n",
              "    }\n",
              "\n",
              "    [theme=dark] .colab-df-convert {\n",
              "      background-color: #3B4455;\n",
              "      fill: #D2E3FC;\n",
              "    }\n",
              "\n",
              "    [theme=dark] .colab-df-convert:hover {\n",
              "      background-color: #434B5C;\n",
              "      box-shadow: 0px 1px 3px 1px rgba(0, 0, 0, 0.15);\n",
              "      filter: drop-shadow(0px 1px 2px rgba(0, 0, 0, 0.3));\n",
              "      fill: #FFFFFF;\n",
              "    }\n",
              "  </style>\n",
              "\n",
              "      <script>\n",
              "        const buttonEl =\n",
              "          document.querySelector('#df-54896643-b508-423b-9124-e5ba138c91bd button.colab-df-convert');\n",
              "        buttonEl.style.display =\n",
              "          google.colab.kernel.accessAllowed ? 'block' : 'none';\n",
              "\n",
              "        async function convertToInteractive(key) {\n",
              "          const element = document.querySelector('#df-54896643-b508-423b-9124-e5ba138c91bd');\n",
              "          const dataTable =\n",
              "            await google.colab.kernel.invokeFunction('convertToInteractive',\n",
              "                                                     [key], {});\n",
              "          if (!dataTable) return;\n",
              "\n",
              "          const docLinkHtml = 'Like what you see? Visit the ' +\n",
              "            '<a target=\"_blank\" href=https://colab.research.google.com/notebooks/data_table.ipynb>data table notebook</a>'\n",
              "            + ' to learn more about interactive tables.';\n",
              "          element.innerHTML = '';\n",
              "          dataTable['output_type'] = 'display_data';\n",
              "          await google.colab.output.renderOutput(dataTable, element);\n",
              "          const docLink = document.createElement('div');\n",
              "          docLink.innerHTML = docLinkHtml;\n",
              "          element.appendChild(docLink);\n",
              "        }\n",
              "      </script>\n",
              "    </div>\n",
              "  </div>\n"
            ]
          },
          "metadata": {},
          "execution_count": 95
        }
      ]
    },
    {
      "cell_type": "code",
      "source": [
        "shuffled_df['class'].value_counts()"
      ],
      "metadata": {
        "colab": {
          "base_uri": "https://localhost:8080/"
        },
        "id": "38nOFTxRENh9",
        "outputId": "1df3ada3-7ab3-461e-e91a-6fcb43faa161"
      },
      "execution_count": null,
      "outputs": [
        {
          "output_type": "execute_result",
          "data": {
            "text/plain": [
              "0    410\n",
              "1    410\n",
              "Name: class, dtype: int64"
            ]
          },
          "metadata": {},
          "execution_count": 97
        }
      ]
    },
    {
      "cell_type": "code",
      "source": [
        "xm = shuffled_df.drop('class', axis = 1)\n",
        "ym = shuffled_df['class']"
      ],
      "metadata": {
        "id": "4tGz3QT1D58N"
      },
      "execution_count": null,
      "outputs": []
    },
    {
      "cell_type": "code",
      "source": [
        "ssm = StandardScaler()\n",
        "xm_norm = ssm.fit_transform(xm)"
      ],
      "metadata": {
        "id": "zRH4dTVIEMnH"
      },
      "execution_count": null,
      "outputs": []
    },
    {
      "cell_type": "code",
      "source": [
        "print(xm_norm.std())"
      ],
      "metadata": {
        "colab": {
          "base_uri": "https://localhost:8080/"
        },
        "id": "Y8LDw9O9EZXT",
        "outputId": "5e28d000-29cc-4e3d-a8a4-08247673eb92"
      },
      "execution_count": null,
      "outputs": [
        {
          "output_type": "stream",
          "name": "stdout",
          "text": [
            "1.0\n"
          ]
        }
      ]
    },
    {
      "cell_type": "code",
      "source": [
        "# logistic regression\n",
        "kfold = KFold(n_splits= 5, random_state = 42, shuffle = True)\n",
        "acc_score = []\n",
        "\n",
        "for train_indices, test_indices in kfold.split(xm_norm):\n",
        "\n",
        "    X_train, X_test = xm_norm[train_indices], xm_norm[test_indices]\n",
        "    y_train, y_test = ym.iloc[train_indices], ym.iloc[test_indices]\n",
        "\n",
        "    model = LogisticRegression()\n",
        "    model.fit(X_train, y_train)\n",
        "\n",
        "    y_pred = model.predict(X_test)\n",
        "\n",
        "    acc = accuracy_score(y_test, y_pred)\n",
        "\n",
        "    acc_score.append(acc)\n",
        "\n",
        "average_acc = np.mean(acc_score)\n",
        "\n",
        "print(\"ACC scores:\", acc_score)\n",
        "print(\"Average accuracy:\", average_acc)\n"
      ],
      "metadata": {
        "colab": {
          "base_uri": "https://localhost:8080/"
        },
        "id": "19flLUmOEefr",
        "outputId": "2464f4c4-c882-42b4-e1f6-d1278ce4b7fb"
      },
      "execution_count": null,
      "outputs": [
        {
          "output_type": "stream",
          "name": "stdout",
          "text": [
            "ACC scores: [0.774390243902439, 0.75, 0.7621951219512195, 0.823170731707317, 0.7134146341463414]\n",
            "Average accuracy: 0.7646341463414634\n"
          ]
        }
      ]
    },
    {
      "cell_type": "code",
      "source": [
        "# svm (linear kernel)\n",
        "acc_score = []\n",
        "\n",
        "for train_indices, test_indices in kfold.split(xm_norm):\n",
        "\n",
        "    X_train, X_test = xm_norm[train_indices], xm_norm[test_indices]\n",
        "    y_train, y_test = ym.iloc[train_indices], ym.iloc[test_indices]\n",
        "\n",
        "    model = svm.SVC(kernel = 'linear')\n",
        "    model.fit(X_train, y_train)\n",
        "\n",
        "    y_pred = model.predict(X_test)\n",
        "\n",
        "    acc = accuracy_score(y_test, y_pred)\n",
        "\n",
        "    acc_score.append(acc)\n",
        "\n",
        "average_acc = np.mean(acc_score)\n",
        "\n",
        "print(\"ACC scores:\", acc_score)\n",
        "print(\"Average accuracy:\", average_acc)\n"
      ],
      "metadata": {
        "colab": {
          "base_uri": "https://localhost:8080/"
        },
        "id": "Lsy0IrDJEpum",
        "outputId": "3e6e20cf-a158-4a3c-da5d-aba321a27172"
      },
      "execution_count": null,
      "outputs": [
        {
          "output_type": "stream",
          "name": "stdout",
          "text": [
            "ACC scores: [0.774390243902439, 0.7439024390243902, 0.774390243902439, 0.8292682926829268, 0.6951219512195121]\n",
            "Average accuracy: 0.7634146341463415\n"
          ]
        }
      ]
    },
    {
      "cell_type": "code",
      "source": [
        "# svm (rbf kernel)\n",
        "acc_score = []\n",
        "\n",
        "for train_indices, test_indices in kfold.split(xm_norm):\n",
        "\n",
        "    X_train, X_test = xm_norm[train_indices], xm_norm[test_indices]\n",
        "    y_train, y_test = ym.iloc[train_indices], ym.iloc[test_indices]\n",
        "\n",
        "    model = svm.SVC(kernel = 'rbf')\n",
        "    model.fit(X_train, y_train)\n",
        "\n",
        "    y_pred = model.predict(X_test)\n",
        "\n",
        "    acc = accuracy_score(y_test, y_pred)\n",
        "\n",
        "    acc_score.append(acc)\n",
        "\n",
        "average_acc = np.mean(acc_score)\n",
        "\n",
        "print(\"ACC scores:\", acc_score)\n",
        "print(\"Average accuracy:\", average_acc)\n"
      ],
      "metadata": {
        "colab": {
          "base_uri": "https://localhost:8080/"
        },
        "id": "fshb168UEz3J",
        "outputId": "1c073b01-4840-42a4-a8d1-373b4ea0684a"
      },
      "execution_count": null,
      "outputs": [
        {
          "output_type": "stream",
          "name": "stdout",
          "text": [
            "ACC scores: [0.7804878048780488, 0.8414634146341463, 0.7621951219512195, 0.7987804878048781, 0.7621951219512195]\n",
            "Average accuracy: 0.7890243902439025\n"
          ]
        }
      ]
    },
    {
      "cell_type": "code",
      "source": [
        "# Decision Tree\n",
        "acc_score = []\n",
        "\n",
        "for train_indices, test_indices in kfold.split(xm_norm):\n",
        "\n",
        "    X_train, X_test = xm_norm[train_indices], xm_norm[test_indices]\n",
        "    y_train, y_test = ym.iloc[train_indices], ym.iloc[test_indices]\n",
        "\n",
        "    model = DecisionTreeClassifier(max_leaf_nodes = 2)\n",
        "    model.fit(X_train, y_train)\n",
        "\n",
        "    y_pred = model.predict(X_test)\n",
        "\n",
        "    acc = accuracy_score(y_test, y_pred)\n",
        "\n",
        "    acc_score.append(acc)\n",
        "\n",
        "average_acc = np.mean(acc_score)\n",
        "\n",
        "print(\"ACC scores:\", acc_score)\n",
        "print(\"Average accuracy:\", average_acc)\n"
      ],
      "metadata": {
        "colab": {
          "base_uri": "https://localhost:8080/"
        },
        "id": "zO06CGLsE4Yl",
        "outputId": "8266ba82-7aae-4b52-d2a7-bf34da622a68"
      },
      "execution_count": null,
      "outputs": [
        {
          "output_type": "stream",
          "name": "stdout",
          "text": [
            "ACC scores: [0.7073170731707317, 0.7987804878048781, 0.725609756097561, 0.7378048780487805, 0.676829268292683]\n",
            "Average accuracy: 0.7292682926829268\n"
          ]
        }
      ]
    },
    {
      "cell_type": "code",
      "source": [
        "# Random Forest\n",
        "acc_score = []\n",
        "\n",
        "for train_indices, test_indices in kfold.split(xm_norm):\n",
        "\n",
        "    X_train, X_test = xm_norm[train_indices], xm_norm[test_indices]\n",
        "    y_train, y_test = ym.iloc[train_indices], ym.iloc[test_indices]\n",
        "\n",
        "    model = RandomForestClassifier(max_leaf_nodes = 100, n_estimators = 200)\n",
        "    model.fit(X_train, y_train)\n",
        "\n",
        "    y_pred = model.predict(X_test)\n",
        "\n",
        "    acc = accuracy_score(y_test, y_pred)\n",
        "\n",
        "    acc_score.append(acc)\n",
        "\n",
        "average_acc = np.mean(acc_score)\n",
        "\n",
        "print(\"ACC scores:\", acc_score)\n",
        "print(\"Average accuracy:\", average_acc)\n"
      ],
      "metadata": {
        "colab": {
          "base_uri": "https://localhost:8080/"
        },
        "id": "zn7SxKd3E8vz",
        "outputId": "e5d617c1-5807-4657-a5c1-0de08eb0f4e8"
      },
      "execution_count": null,
      "outputs": [
        {
          "output_type": "stream",
          "name": "stdout",
          "text": [
            "ACC scores: [0.8780487804878049, 0.8536585365853658, 0.8109756097560976, 0.9085365853658537, 0.8536585365853658]\n",
            "Average accuracy: 0.8609756097560977\n"
          ]
        }
      ]
    },
    {
      "cell_type": "markdown",
      "source": [
        "\n",
        "\n",
        "*   in this method of handling class imbalance, the accuracies are generally low because we are training on much less data points\n",
        "\n"
      ],
      "metadata": {
        "id": "To97yHNzGNCm"
      }
    },
    {
      "cell_type": "markdown",
      "source": [
        "(2) Using SMOTE, training with 5500 bankruped companies (Over-sampling)\n",
        "\n"
      ],
      "metadata": {
        "id": "F-DouK77FYnN"
      }
    },
    {
      "cell_type": "code",
      "source": [
        "df['class'].value_counts()"
      ],
      "metadata": {
        "colab": {
          "base_uri": "https://localhost:8080/"
        },
        "id": "DNH-BMufFOT3",
        "outputId": "ac3069cd-6aea-4dcc-d3c3-81df5bf9f092"
      },
      "execution_count": null,
      "outputs": [
        {
          "output_type": "execute_result",
          "data": {
            "text/plain": [
              "0    5500\n",
              "1     410\n",
              "Name: class, dtype: int64"
            ]
          },
          "metadata": {},
          "execution_count": 23
        }
      ]
    },
    {
      "cell_type": "code",
      "source": [
        "print(x.shape)\n",
        "print(len(y))"
      ],
      "metadata": {
        "colab": {
          "base_uri": "https://localhost:8080/"
        },
        "id": "w3CBpjuLF4yq",
        "outputId": "d939e970-1d5e-4264-ece8-32287dbc14ae"
      },
      "execution_count": null,
      "outputs": [
        {
          "output_type": "stream",
          "name": "stdout",
          "text": [
            "(5910, 30)\n",
            "5910\n"
          ]
        }
      ]
    },
    {
      "cell_type": "code",
      "source": [
        "from imblearn.over_sampling import SMOTE\n",
        "smote = SMOTE()\n",
        "xs, ys = smote.fit_resample(x, y)"
      ],
      "metadata": {
        "id": "MmRjMi6YFgcx"
      },
      "execution_count": null,
      "outputs": []
    },
    {
      "cell_type": "code",
      "source": [
        "print(xs.shape)\n",
        "print(len(ys))"
      ],
      "metadata": {
        "colab": {
          "base_uri": "https://localhost:8080/"
        },
        "id": "c8IbrzEXGP9t",
        "outputId": "45e560ec-e64e-4b67-d946-e080e66085f8"
      },
      "execution_count": null,
      "outputs": [
        {
          "output_type": "stream",
          "name": "stdout",
          "text": [
            "(11000, 30)\n",
            "11000\n"
          ]
        }
      ]
    },
    {
      "cell_type": "code",
      "source": [
        "ys.value_counts()"
      ],
      "metadata": {
        "colab": {
          "base_uri": "https://localhost:8080/"
        },
        "id": "Z_kI_w1dGUOV",
        "outputId": "a786b273-aa3e-4cc6-8d72-f2196ff2eaaa"
      },
      "execution_count": null,
      "outputs": [
        {
          "output_type": "execute_result",
          "data": {
            "text/plain": [
              "0    5500\n",
              "1    5500\n",
              "Name: class, dtype: int64"
            ]
          },
          "metadata": {},
          "execution_count": 27
        }
      ]
    },
    {
      "cell_type": "code",
      "source": [
        "sss = StandardScaler()\n",
        "xs_norm = sss.fit_transform(xs)"
      ],
      "metadata": {
        "id": "Fi8PFg0gGXhN"
      },
      "execution_count": null,
      "outputs": []
    },
    {
      "cell_type": "code",
      "source": [
        "# Logistic Regression\n",
        "kfold = KFold(n_splits= 5, random_state = 42, shuffle = True)\n",
        "acc_score = []\n",
        "\n",
        "for train_indices, test_indices in kfold.split(xs_norm):\n",
        "\n",
        "    X_train, X_test = xs_norm[train_indices], xs_norm[test_indices]\n",
        "    y_train, y_test = ys.iloc[train_indices], ys.iloc[test_indices]\n",
        "\n",
        "    model = LogisticRegression(max_iter = 1000)\n",
        "    model.fit(X_train, y_train)\n",
        "\n",
        "    y_pred = model.predict(X_test)\n",
        "\n",
        "    acc = accuracy_score(y_test, y_pred)\n",
        "\n",
        "    acc_score.append(acc)\n",
        "\n",
        "average_acc = np.mean(acc_score)\n",
        "\n",
        "print(\"ACC scores:\", acc_score)\n",
        "print(\"Average accuracy:\", average_acc)\n"
      ],
      "metadata": {
        "colab": {
          "base_uri": "https://localhost:8080/"
        },
        "id": "9MqDX6waGthG",
        "outputId": "7de08bcb-a44e-4665-db0f-bc6aa41a2c13"
      },
      "execution_count": null,
      "outputs": [
        {
          "output_type": "stream",
          "name": "stdout",
          "text": [
            "ACC scores: [0.775, 0.7668181818181818, 0.759090909090909, 0.7613636363636364, 0.7618181818181818]\n",
            "Average accuracy: 0.7648181818181817\n"
          ]
        }
      ]
    },
    {
      "cell_type": "code",
      "source": [
        "# SVM (Linear kernel)\n",
        "acc_score = []\n",
        "\n",
        "for train_indices, test_indices in kfold.split(xs_norm):\n",
        "\n",
        "    X_train, X_test = xs_norm[train_indices], xs_norm[test_indices]\n",
        "    y_train, y_test = ys.iloc[train_indices], ys.iloc[test_indices]\n",
        "\n",
        "    model = svm.SVC(kernel = 'linear')\n",
        "    model.fit(X_train, y_train)\n",
        "\n",
        "    y_pred = model.predict(X_test)\n",
        "\n",
        "    acc = accuracy_score(y_test, y_pred)\n",
        "\n",
        "    acc_score.append(acc)\n",
        "\n",
        "average_acc = np.mean(acc_score)\n",
        "\n",
        "print(\"ACC scores:\", acc_score)\n",
        "print(\"Average accuracy:\", average_acc)\n"
      ],
      "metadata": {
        "colab": {
          "base_uri": "https://localhost:8080/"
        },
        "id": "6WdqgVF9G2Re",
        "outputId": "37e7fc32-d942-4333-bf92-3c767ec615f0"
      },
      "execution_count": null,
      "outputs": [
        {
          "output_type": "stream",
          "name": "stdout",
          "text": [
            "ACC scores: [0.785, 0.7777272727272727, 0.7622727272727273, 0.7663636363636364, 0.7695454545454545]\n",
            "Average accuracy: 0.7721818181818183\n"
          ]
        }
      ]
    },
    {
      "cell_type": "code",
      "source": [
        "# SVM (Radial Basis Function kernel)\n",
        "acc_score = []\n",
        "\n",
        "for train_indices, test_indices in kfold.split(xs_norm):\n",
        "\n",
        "    X_train, X_test = xs_norm[train_indices], xs_norm[test_indices]\n",
        "    y_train, y_test = ys.iloc[train_indices], ys.iloc[test_indices]\n",
        "\n",
        "    model = svm.SVC(kernel = 'rbf')\n",
        "    model.fit(X_train, y_train)\n",
        "\n",
        "    y_pred = model.predict(X_test)\n",
        "\n",
        "    acc = accuracy_score(y_test, y_pred)\n",
        "\n",
        "    acc_score.append(acc)\n",
        "\n",
        "average_acc = np.mean(acc_score)\n",
        "\n",
        "print(\"ACC scores:\", acc_score)\n",
        "print(\"Average accuracy:\", average_acc)\n"
      ],
      "metadata": {
        "colab": {
          "base_uri": "https://localhost:8080/"
        },
        "id": "qKTYQInRHE1J",
        "outputId": "2968ab78-00a2-46a6-b776-a18d77901ddd"
      },
      "execution_count": null,
      "outputs": [
        {
          "output_type": "stream",
          "name": "stdout",
          "text": [
            "ACC scores: [0.7968181818181819, 0.7877272727272727, 0.7795454545454545, 0.7845454545454545, 0.7831818181818182]\n",
            "Average accuracy: 0.7863636363636364\n"
          ]
        }
      ]
    },
    {
      "cell_type": "code",
      "source": [
        "# SVM (Sigmoid kernel)\n",
        "acc_score = []\n",
        "\n",
        "for train_indices, test_indices in kfold.split(xs_norm):\n",
        "\n",
        "    X_train, X_test = xs_norm[train_indices], xs_norm[test_indices]\n",
        "    y_train, y_test = ys.iloc[train_indices], ys.iloc[test_indices]\n",
        "\n",
        "    model = svm.SVC(kernel = 'sigmoid', C = 1)\n",
        "    model.fit(X_train, y_train)\n",
        "\n",
        "    y_pred = model.predict(X_test)\n",
        "\n",
        "    acc = accuracy_score(y_test, y_pred)\n",
        "\n",
        "    acc_score.append(acc)\n",
        "\n",
        "average_acc = np.mean(acc_score)\n",
        "\n",
        "print(\"ACC scores:\", acc_score)\n",
        "print(\"Average accuracy:\", average_acc)\n"
      ],
      "metadata": {
        "colab": {
          "base_uri": "https://localhost:8080/"
        },
        "id": "_xfZIZkUHUaL",
        "outputId": "9a2057ab-87ff-4c2c-fabb-f8a336a9ad42"
      },
      "execution_count": null,
      "outputs": [
        {
          "output_type": "stream",
          "name": "stdout",
          "text": [
            "ACC scores: [0.7463636363636363, 0.7368181818181818, 0.7, 0.7227272727272728, 0.6968181818181818]\n",
            "Average accuracy: 0.7205454545454545\n"
          ]
        }
      ]
    },
    {
      "cell_type": "code",
      "source": [
        "# Decision Tree\n",
        "acc_score = []\n",
        "\n",
        "for train_indices, test_indices in kfold.split(xs_norm):\n",
        "\n",
        "    X_train, X_test = xs_norm[train_indices], xs_norm[test_indices]\n",
        "    y_train, y_test = ys.iloc[train_indices], ys.iloc[test_indices]\n",
        "\n",
        "    model = DecisionTreeClassifier(max_leaf_nodes = 300)\n",
        "    model.fit(X_train, y_train)\n",
        "\n",
        "    y_pred = model.predict(X_test)\n",
        "\n",
        "    acc = accuracy_score(y_test, y_pred)\n",
        "\n",
        "    acc_score.append(acc)\n",
        "\n",
        "average_acc = np.mean(acc_score)\n",
        "\n",
        "print(\"ACC scores:\", acc_score)\n",
        "print(\"Average accuracy:\", average_acc)\n"
      ],
      "metadata": {
        "colab": {
          "base_uri": "https://localhost:8080/"
        },
        "id": "gMKafp4yHfFf",
        "outputId": "f4347632-db78-4ed0-a5ea-50af7136af51"
      },
      "execution_count": null,
      "outputs": [
        {
          "output_type": "stream",
          "name": "stdout",
          "text": [
            "ACC scores: [0.9304545454545454, 0.9168181818181819, 0.9218181818181819, 0.9086363636363637, 0.9236363636363636]\n",
            "Average accuracy: 0.9202727272727274\n"
          ]
        }
      ]
    },
    {
      "cell_type": "code",
      "source": [
        "import xgboost as xgb"
      ],
      "metadata": {
        "id": "tcx7-KRXMQNV"
      },
      "execution_count": null,
      "outputs": []
    },
    {
      "cell_type": "markdown",
      "source": [
        "THIS IS THE BEST MODEL"
      ],
      "metadata": {
        "id": "Kr-RlfuaQ7_4"
      }
    },
    {
      "cell_type": "code",
      "source": [
        "# Extreme Gradient Boosting\n",
        "acc_score = []\n",
        "\n",
        "for train_indices, test_indices in kfold.split(xs_norm):\n",
        "\n",
        "    X_train, X_test = xs_norm[train_indices], xs_norm[test_indices]\n",
        "    y_train, y_test = ys.iloc[train_indices], ys.iloc[test_indices]\n",
        "\n",
        "    model_xgb = xgb.XGBClassifier(n_estimators = 200, reg_lambda = 10, max_leaves = 1, max_depth = 10)\n",
        "    model_xgb.fit(X_train, y_train)\n",
        "\n",
        "    y_pred = model_xgb.predict(X_test)\n",
        "\n",
        "    acc = accuracy_score(y_test, y_pred)\n",
        "\n",
        "    acc_score.append(acc)\n",
        "\n",
        "average_acc = np.mean(acc_score)\n",
        "\n",
        "print(\"ACC scores:\", acc_score)\n",
        "print(\"Average accuracy:\", average_acc)\n"
      ],
      "metadata": {
        "colab": {
          "base_uri": "https://localhost:8080/"
        },
        "id": "gaWdrhoiL5oL",
        "outputId": "a8e8b006-4df6-4601-df84-fedc6ecc06f0"
      },
      "execution_count": null,
      "outputs": [
        {
          "output_type": "stream",
          "name": "stdout",
          "text": [
            "ACC scores: [0.9777272727272728, 0.9745454545454545, 0.9768181818181818, 0.9727272727272728, 0.9781818181818182]\n",
            "Average accuracy: 0.976\n"
          ]
        }
      ]
    },
    {
      "cell_type": "code",
      "source": [
        "# XGBoost\n",
        "acc_score = []\n",
        "\n",
        "for train_indices, test_indices in kfold.split(xs_norm):\n",
        "\n",
        "    X_train, X_test = xs_norm[train_indices], xs_norm[test_indices]\n",
        "    y_train, y_test = ys.iloc[train_indices], ys.iloc[test_indices]\n",
        "\n",
        "    model_xgb = xgb.XGBClassifier(n_estimators = 200, reg_lambda = 20, max_leaves = 5, max_depth = 50)\n",
        "    model_xgb.fit(X_train, y_train)\n",
        "\n",
        "    y_pred = model_xgb.predict(X_test)\n",
        "\n",
        "    acc = accuracy_score(y_test, y_pred)\n",
        "\n",
        "    acc_score.append(acc)\n",
        "\n",
        "average_acc = np.mean(acc_score)\n",
        "\n",
        "print(\"ACC scores:\", acc_score)\n",
        "print(\"Average accuracy:\", average_acc)\n"
      ],
      "metadata": {
        "colab": {
          "base_uri": "https://localhost:8080/"
        },
        "id": "37kAewJqNK5s",
        "outputId": "094ea989-1df3-468e-8ff4-582072f01e9d"
      },
      "execution_count": null,
      "outputs": [
        {
          "output_type": "stream",
          "name": "stdout",
          "text": [
            "ACC scores: [0.9777272727272728, 0.9713636363636363, 0.9754545454545455, 0.9690909090909091, 0.9740909090909091]\n",
            "Average accuracy: 0.9735454545454546\n"
          ]
        }
      ]
    },
    {
      "cell_type": "code",
      "source": [
        "# Random Forest\n",
        "acc_score = []\n",
        "\n",
        "for train_indices, test_indices in kfold.split(xs_norm):\n",
        "\n",
        "    X_train, X_test = xs_norm[train_indices], xs_norm[test_indices]\n",
        "    y_train, y_test = ys.iloc[train_indices], ys.iloc[test_indices]\n",
        "\n",
        "    model = RandomForestClassifier(max_leaf_nodes = 500)\n",
        "    model.fit(X_train, y_train)\n",
        "\n",
        "    y_pred = model.predict(X_test)\n",
        "\n",
        "    acc = accuracy_score(y_test, y_pred)\n",
        "\n",
        "    acc_score.append(acc)\n",
        "\n",
        "average_acc = np.mean(acc_score)\n",
        "\n",
        "print(\"ACC scores:\", acc_score)\n",
        "print(\"Average accuracy:\", average_acc)\n"
      ],
      "metadata": {
        "colab": {
          "base_uri": "https://localhost:8080/"
        },
        "id": "DyqvAjOoHo9V",
        "outputId": "0684f873-6e05-4741-c21d-61d3ae2854f5"
      },
      "execution_count": null,
      "outputs": [
        {
          "output_type": "stream",
          "name": "stdout",
          "text": [
            "ACC scores: [0.9763636363636363, 0.9686363636363636, 0.97, 0.9704545454545455, 0.9659090909090909]\n",
            "Average accuracy: 0.9702727272727273\n"
          ]
        }
      ]
    },
    {
      "cell_type": "markdown",
      "source": [
        "Extracting the features that were most important while prediction"
      ],
      "metadata": {
        "id": "smdpM9sIGv-m"
      }
    },
    {
      "cell_type": "code",
      "source": [
        "feature_importances = model.feature_importances_\n",
        "\n",
        "sorted_indices = np.argsort(feature_importances)[::-1]\n",
        "\n",
        "most_important_features = [xs.columns[i] for i in sorted_indices]\n",
        "\n",
        "print(most_important_features)"
      ],
      "metadata": {
        "colab": {
          "base_uri": "https://localhost:8080/"
        },
        "id": "m0CCdOzCH5qT",
        "outputId": "d1ca1d41-f4db-4997-f34d-14ed80670746"
      },
      "execution_count": null,
      "outputs": [
        {
          "output_type": "stream",
          "name": "stdout",
          "text": [
            "['Attr27', 'Attr39', 'Attr42', 'Attr13', 'Attr6', 'Attr41', 'Attr15', 'Attr55', 'Attr1', 'Attr7', 'Attr29', 'Attr37', 'Attr21', 'Attr45', 'Attr61', 'Attr19', 'Attr2', 'Attr9', 'Attr28', 'Attr59', 'Attr3', 'Attr4', 'Attr30', 'Attr57', 'Attr5', 'Attr20', 'Attr43', 'Attr32', 'Attr47', 'Attr52']\n"
          ]
        }
      ]
    },
    {
      "cell_type": "markdown",
      "source": [
        "Upon decoding the actual names of the features, the top 10 most important features for predicting the chances of bankruptcy of a company are as follows:-\n",
        "\n",
        "1.   Profit on (operating activities / financial expences)\n",
        "2.   Profit on sales\n",
        "3.   Profit on (Operating Activities / sales)\n",
        "4.   (Gross profit+ depreciation) / sales\n",
        "5.   (Retained earnings / total assets)\n",
        "6.   (total liability / (profit on operating activities + depreciation)* (12/365))\n",
        "7.   (total liabilities * 365) / (gross profit + depreciation)\n",
        "8.   Working Capital\n",
        "9.   (net profit / total assets)\n",
        "10.   (EBIT /total assets)\n"
      ],
      "metadata": {
        "id": "Oc4IU8-tG5k3"
      }
    },
    {
      "cell_type": "markdown",
      "source": [
        "Training the best performing model to this feature set."
      ],
      "metadata": {
        "id": "698sMFwvJnSS"
      }
    },
    {
      "cell_type": "code",
      "source": [
        "new = most_important_features[:20]\n",
        "new_df = xs[new]\n",
        "\n",
        "\n",
        "print(new_df.shape)\n",
        "print(len(ys))"
      ],
      "metadata": {
        "colab": {
          "base_uri": "https://localhost:8080/"
        },
        "id": "tOuzF47sIyey",
        "outputId": "4b9113c6-9757-494c-91e3-22243db7bbfd"
      },
      "execution_count": null,
      "outputs": [
        {
          "output_type": "stream",
          "name": "stdout",
          "text": [
            "(11000, 20)\n",
            "11000\n"
          ]
        }
      ]
    },
    {
      "cell_type": "code",
      "source": [
        "new_df.head()"
      ],
      "metadata": {
        "colab": {
          "base_uri": "https://localhost:8080/",
          "height": 270
        },
        "id": "iSwzCN9sKHdV",
        "outputId": "d96dc92d-3b47-415d-de01-671ea6ae1157"
      },
      "execution_count": null,
      "outputs": [
        {
          "output_type": "execute_result",
          "data": {
            "text/plain": [
              "    Attr27    Attr39    Attr42    Attr13     Attr6    Attr41   Attr15  \\\n",
              "0  1.03870  0.095457  0.095457  0.096885  0.342040  0.111890  1475.20   \n",
              "1  0.17118 -0.028591  0.001011  0.037544  0.000000  0.291670  3693.40   \n",
              "2  1.47370  0.129100  0.129100  0.165680  0.187640  0.042587   431.75   \n",
              "3  0.00000  0.010998  0.000000  0.084038 -0.073957  0.149980  3020.50   \n",
              "4  2.06710  0.240400  0.044632  0.055575  0.000000  0.198280  2386.10   \n",
              "\n",
              "       Attr55     Attr1     Attr7  Attr29      Attr37   Attr21    Attr45  \\\n",
              "0  15182.0000  0.088238  0.109490  6.1267  571.370000  1.15740  0.452890   \n",
              "1   2341.8000 -0.006202 -0.006202  4.0022    5.251900  1.01580 -0.029614   \n",
              "2  33401.0000  0.130240  0.162120  4.7622  114.025985  1.23620  1.013700   \n",
              "3   2789.6000 -0.089951 -0.089951  4.0153    1.900500  1.09420 -0.539690   \n",
              "4      1.2437  0.048179  0.059280  5.8823    6.378300  0.99455  0.321770   \n",
              "\n",
              "   Attr61    Attr19    Attr2   Attr9    Attr28    Attr59  \n",
              "0  4.7343  0.077287  0.55472  1.0881  0.026093  0.002024  \n",
              "1  3.2749 -0.004862  0.48465  1.2757  0.615450  0.152220  \n",
              "2  2.9870  0.143490  0.22142  1.1415  2.872100  0.000000  \n",
              "3  3.3302 -0.070525  0.88700  1.2754  1.251900  2.878700  \n",
              "4  4.0950  0.039129  0.55041  1.5150  0.238910  0.139380  "
            ],
            "text/html": [
              "\n",
              "\n",
              "  <div id=\"df-395103d0-1368-49e8-8fff-7537950718ae\">\n",
              "    <div class=\"colab-df-container\">\n",
              "      <div>\n",
              "<style scoped>\n",
              "    .dataframe tbody tr th:only-of-type {\n",
              "        vertical-align: middle;\n",
              "    }\n",
              "\n",
              "    .dataframe tbody tr th {\n",
              "        vertical-align: top;\n",
              "    }\n",
              "\n",
              "    .dataframe thead th {\n",
              "        text-align: right;\n",
              "    }\n",
              "</style>\n",
              "<table border=\"1\" class=\"dataframe\">\n",
              "  <thead>\n",
              "    <tr style=\"text-align: right;\">\n",
              "      <th></th>\n",
              "      <th>Attr27</th>\n",
              "      <th>Attr39</th>\n",
              "      <th>Attr42</th>\n",
              "      <th>Attr13</th>\n",
              "      <th>Attr6</th>\n",
              "      <th>Attr41</th>\n",
              "      <th>Attr15</th>\n",
              "      <th>Attr55</th>\n",
              "      <th>Attr1</th>\n",
              "      <th>Attr7</th>\n",
              "      <th>Attr29</th>\n",
              "      <th>Attr37</th>\n",
              "      <th>Attr21</th>\n",
              "      <th>Attr45</th>\n",
              "      <th>Attr61</th>\n",
              "      <th>Attr19</th>\n",
              "      <th>Attr2</th>\n",
              "      <th>Attr9</th>\n",
              "      <th>Attr28</th>\n",
              "      <th>Attr59</th>\n",
              "    </tr>\n",
              "  </thead>\n",
              "  <tbody>\n",
              "    <tr>\n",
              "      <th>0</th>\n",
              "      <td>1.03870</td>\n",
              "      <td>0.095457</td>\n",
              "      <td>0.095457</td>\n",
              "      <td>0.096885</td>\n",
              "      <td>0.342040</td>\n",
              "      <td>0.111890</td>\n",
              "      <td>1475.20</td>\n",
              "      <td>15182.0000</td>\n",
              "      <td>0.088238</td>\n",
              "      <td>0.109490</td>\n",
              "      <td>6.1267</td>\n",
              "      <td>571.370000</td>\n",
              "      <td>1.15740</td>\n",
              "      <td>0.452890</td>\n",
              "      <td>4.7343</td>\n",
              "      <td>0.077287</td>\n",
              "      <td>0.55472</td>\n",
              "      <td>1.0881</td>\n",
              "      <td>0.026093</td>\n",
              "      <td>0.002024</td>\n",
              "    </tr>\n",
              "    <tr>\n",
              "      <th>1</th>\n",
              "      <td>0.17118</td>\n",
              "      <td>-0.028591</td>\n",
              "      <td>0.001011</td>\n",
              "      <td>0.037544</td>\n",
              "      <td>0.000000</td>\n",
              "      <td>0.291670</td>\n",
              "      <td>3693.40</td>\n",
              "      <td>2341.8000</td>\n",
              "      <td>-0.006202</td>\n",
              "      <td>-0.006202</td>\n",
              "      <td>4.0022</td>\n",
              "      <td>5.251900</td>\n",
              "      <td>1.01580</td>\n",
              "      <td>-0.029614</td>\n",
              "      <td>3.2749</td>\n",
              "      <td>-0.004862</td>\n",
              "      <td>0.48465</td>\n",
              "      <td>1.2757</td>\n",
              "      <td>0.615450</td>\n",
              "      <td>0.152220</td>\n",
              "    </tr>\n",
              "    <tr>\n",
              "      <th>2</th>\n",
              "      <td>1.47370</td>\n",
              "      <td>0.129100</td>\n",
              "      <td>0.129100</td>\n",
              "      <td>0.165680</td>\n",
              "      <td>0.187640</td>\n",
              "      <td>0.042587</td>\n",
              "      <td>431.75</td>\n",
              "      <td>33401.0000</td>\n",
              "      <td>0.130240</td>\n",
              "      <td>0.162120</td>\n",
              "      <td>4.7622</td>\n",
              "      <td>114.025985</td>\n",
              "      <td>1.23620</td>\n",
              "      <td>1.013700</td>\n",
              "      <td>2.9870</td>\n",
              "      <td>0.143490</td>\n",
              "      <td>0.22142</td>\n",
              "      <td>1.1415</td>\n",
              "      <td>2.872100</td>\n",
              "      <td>0.000000</td>\n",
              "    </tr>\n",
              "    <tr>\n",
              "      <th>3</th>\n",
              "      <td>0.00000</td>\n",
              "      <td>0.010998</td>\n",
              "      <td>0.000000</td>\n",
              "      <td>0.084038</td>\n",
              "      <td>-0.073957</td>\n",
              "      <td>0.149980</td>\n",
              "      <td>3020.50</td>\n",
              "      <td>2789.6000</td>\n",
              "      <td>-0.089951</td>\n",
              "      <td>-0.089951</td>\n",
              "      <td>4.0153</td>\n",
              "      <td>1.900500</td>\n",
              "      <td>1.09420</td>\n",
              "      <td>-0.539690</td>\n",
              "      <td>3.3302</td>\n",
              "      <td>-0.070525</td>\n",
              "      <td>0.88700</td>\n",
              "      <td>1.2754</td>\n",
              "      <td>1.251900</td>\n",
              "      <td>2.878700</td>\n",
              "    </tr>\n",
              "    <tr>\n",
              "      <th>4</th>\n",
              "      <td>2.06710</td>\n",
              "      <td>0.240400</td>\n",
              "      <td>0.044632</td>\n",
              "      <td>0.055575</td>\n",
              "      <td>0.000000</td>\n",
              "      <td>0.198280</td>\n",
              "      <td>2386.10</td>\n",
              "      <td>1.2437</td>\n",
              "      <td>0.048179</td>\n",
              "      <td>0.059280</td>\n",
              "      <td>5.8823</td>\n",
              "      <td>6.378300</td>\n",
              "      <td>0.99455</td>\n",
              "      <td>0.321770</td>\n",
              "      <td>4.0950</td>\n",
              "      <td>0.039129</td>\n",
              "      <td>0.55041</td>\n",
              "      <td>1.5150</td>\n",
              "      <td>0.238910</td>\n",
              "      <td>0.139380</td>\n",
              "    </tr>\n",
              "  </tbody>\n",
              "</table>\n",
              "</div>\n",
              "      <button class=\"colab-df-convert\" onclick=\"convertToInteractive('df-395103d0-1368-49e8-8fff-7537950718ae')\"\n",
              "              title=\"Convert this dataframe to an interactive table.\"\n",
              "              style=\"display:none;\">\n",
              "\n",
              "  <svg xmlns=\"http://www.w3.org/2000/svg\" height=\"24px\"viewBox=\"0 0 24 24\"\n",
              "       width=\"24px\">\n",
              "    <path d=\"M0 0h24v24H0V0z\" fill=\"none\"/>\n",
              "    <path d=\"M18.56 5.44l.94 2.06.94-2.06 2.06-.94-2.06-.94-.94-2.06-.94 2.06-2.06.94zm-11 1L8.5 8.5l.94-2.06 2.06-.94-2.06-.94L8.5 2.5l-.94 2.06-2.06.94zm10 10l.94 2.06.94-2.06 2.06-.94-2.06-.94-.94-2.06-.94 2.06-2.06.94z\"/><path d=\"M17.41 7.96l-1.37-1.37c-.4-.4-.92-.59-1.43-.59-.52 0-1.04.2-1.43.59L10.3 9.45l-7.72 7.72c-.78.78-.78 2.05 0 2.83L4 21.41c.39.39.9.59 1.41.59.51 0 1.02-.2 1.41-.59l7.78-7.78 2.81-2.81c.8-.78.8-2.07 0-2.86zM5.41 20L4 18.59l7.72-7.72 1.47 1.35L5.41 20z\"/>\n",
              "  </svg>\n",
              "      </button>\n",
              "\n",
              "\n",
              "\n",
              "    <div id=\"df-961aa3ec-1180-414f-b282-bad6497b4b4a\">\n",
              "      <button class=\"colab-df-quickchart\" onclick=\"quickchart('df-961aa3ec-1180-414f-b282-bad6497b4b4a')\"\n",
              "              title=\"Suggest charts.\"\n",
              "              style=\"display:none;\">\n",
              "\n",
              "<svg xmlns=\"http://www.w3.org/2000/svg\" height=\"24px\"viewBox=\"0 0 24 24\"\n",
              "     width=\"24px\">\n",
              "    <g>\n",
              "        <path d=\"M19 3H5c-1.1 0-2 .9-2 2v14c0 1.1.9 2 2 2h14c1.1 0 2-.9 2-2V5c0-1.1-.9-2-2-2zM9 17H7v-7h2v7zm4 0h-2V7h2v10zm4 0h-2v-4h2v4z\"/>\n",
              "    </g>\n",
              "</svg>\n",
              "      </button>\n",
              "    </div>\n",
              "\n",
              "<style>\n",
              "  .colab-df-quickchart {\n",
              "    background-color: #E8F0FE;\n",
              "    border: none;\n",
              "    border-radius: 50%;\n",
              "    cursor: pointer;\n",
              "    display: none;\n",
              "    fill: #1967D2;\n",
              "    height: 32px;\n",
              "    padding: 0 0 0 0;\n",
              "    width: 32px;\n",
              "  }\n",
              "\n",
              "  .colab-df-quickchart:hover {\n",
              "    background-color: #E2EBFA;\n",
              "    box-shadow: 0px 1px 2px rgba(60, 64, 67, 0.3), 0px 1px 3px 1px rgba(60, 64, 67, 0.15);\n",
              "    fill: #174EA6;\n",
              "  }\n",
              "\n",
              "  [theme=dark] .colab-df-quickchart {\n",
              "    background-color: #3B4455;\n",
              "    fill: #D2E3FC;\n",
              "  }\n",
              "\n",
              "  [theme=dark] .colab-df-quickchart:hover {\n",
              "    background-color: #434B5C;\n",
              "    box-shadow: 0px 1px 3px 1px rgba(0, 0, 0, 0.15);\n",
              "    filter: drop-shadow(0px 1px 2px rgba(0, 0, 0, 0.3));\n",
              "    fill: #FFFFFF;\n",
              "  }\n",
              "</style>\n",
              "\n",
              "    <script>\n",
              "      async function quickchart(key) {\n",
              "        const containerElement = document.querySelector('#' + key);\n",
              "        const charts = await google.colab.kernel.invokeFunction(\n",
              "            'suggestCharts', [key], {});\n",
              "      }\n",
              "    </script>\n",
              "\n",
              "      <script>\n",
              "\n",
              "function displayQuickchartButton(domScope) {\n",
              "  let quickchartButtonEl =\n",
              "    domScope.querySelector('#df-961aa3ec-1180-414f-b282-bad6497b4b4a button.colab-df-quickchart');\n",
              "  quickchartButtonEl.style.display =\n",
              "    google.colab.kernel.accessAllowed ? 'block' : 'none';\n",
              "}\n",
              "\n",
              "        displayQuickchartButton(document);\n",
              "      </script>\n",
              "      <style>\n",
              "    .colab-df-container {\n",
              "      display:flex;\n",
              "      flex-wrap:wrap;\n",
              "      gap: 12px;\n",
              "    }\n",
              "\n",
              "    .colab-df-convert {\n",
              "      background-color: #E8F0FE;\n",
              "      border: none;\n",
              "      border-radius: 50%;\n",
              "      cursor: pointer;\n",
              "      display: none;\n",
              "      fill: #1967D2;\n",
              "      height: 32px;\n",
              "      padding: 0 0 0 0;\n",
              "      width: 32px;\n",
              "    }\n",
              "\n",
              "    .colab-df-convert:hover {\n",
              "      background-color: #E2EBFA;\n",
              "      box-shadow: 0px 1px 2px rgba(60, 64, 67, 0.3), 0px 1px 3px 1px rgba(60, 64, 67, 0.15);\n",
              "      fill: #174EA6;\n",
              "    }\n",
              "\n",
              "    [theme=dark] .colab-df-convert {\n",
              "      background-color: #3B4455;\n",
              "      fill: #D2E3FC;\n",
              "    }\n",
              "\n",
              "    [theme=dark] .colab-df-convert:hover {\n",
              "      background-color: #434B5C;\n",
              "      box-shadow: 0px 1px 3px 1px rgba(0, 0, 0, 0.15);\n",
              "      filter: drop-shadow(0px 1px 2px rgba(0, 0, 0, 0.3));\n",
              "      fill: #FFFFFF;\n",
              "    }\n",
              "  </style>\n",
              "\n",
              "      <script>\n",
              "        const buttonEl =\n",
              "          document.querySelector('#df-395103d0-1368-49e8-8fff-7537950718ae button.colab-df-convert');\n",
              "        buttonEl.style.display =\n",
              "          google.colab.kernel.accessAllowed ? 'block' : 'none';\n",
              "\n",
              "        async function convertToInteractive(key) {\n",
              "          const element = document.querySelector('#df-395103d0-1368-49e8-8fff-7537950718ae');\n",
              "          const dataTable =\n",
              "            await google.colab.kernel.invokeFunction('convertToInteractive',\n",
              "                                                     [key], {});\n",
              "          if (!dataTable) return;\n",
              "\n",
              "          const docLinkHtml = 'Like what you see? Visit the ' +\n",
              "            '<a target=\"_blank\" href=https://colab.research.google.com/notebooks/data_table.ipynb>data table notebook</a>'\n",
              "            + ' to learn more about interactive tables.';\n",
              "          element.innerHTML = '';\n",
              "          dataTable['output_type'] = 'display_data';\n",
              "          await google.colab.output.renderOutput(dataTable, element);\n",
              "          const docLink = document.createElement('div');\n",
              "          docLink.innerHTML = docLinkHtml;\n",
              "          element.appendChild(docLink);\n",
              "        }\n",
              "      </script>\n",
              "    </div>\n",
              "  </div>\n"
            ]
          },
          "metadata": {},
          "execution_count": 167
        }
      ]
    },
    {
      "cell_type": "code",
      "source": [
        "# XGBoost\n",
        "acc_score = []\n",
        "\n",
        "for train_indices, test_indices in kfold.split(new_df):\n",
        "\n",
        "    X_train, X_test = new_df.iloc[train_indices], new_df.iloc[test_indices]\n",
        "    y_train, y_test = ys.iloc[train_indices], ys.iloc[test_indices]\n",
        "\n",
        "    model_xgb = xgb.XGBClassifier(n_estimators = 200, reg_lambda = 10, max_leaves = 1, max_depth = 10)\n",
        "    model_xgb.fit(X_train, y_train)\n",
        "\n",
        "    y_pred = model_xgb.predict(X_test)\n",
        "\n",
        "    acc = accuracy_score(y_test, y_pred)\n",
        "\n",
        "    acc_score.append(acc)\n",
        "\n",
        "average_acc = np.mean(acc_score)\n",
        "\n",
        "print(\"ACC scores:\", acc_score)\n",
        "print(\"Average accuracy:\", average_acc)\n"
      ],
      "metadata": {
        "colab": {
          "base_uri": "https://localhost:8080/"
        },
        "id": "fmAFZmJ_QhWq",
        "outputId": "1f744b2b-4e7f-40cf-87a2-6842c22f8ba0"
      },
      "execution_count": null,
      "outputs": [
        {
          "output_type": "stream",
          "name": "stdout",
          "text": [
            "ACC scores: [0.9772727272727273, 0.9718181818181818, 0.9768181818181818, 0.9709090909090909, 0.9709090909090909]\n",
            "Average accuracy: 0.9735454545454545\n"
          ]
        }
      ]
    },
    {
      "cell_type": "markdown",
      "source": [
        "These models do perform well.\n",
        "They do not outperform the best model as some variance (information) is lost when only top 10 features were selected."
      ],
      "metadata": {
        "id": "cnQXLOXgJyWS"
      }
    },
    {
      "cell_type": "markdown",
      "source": [
        "Evaluating the best performing model further"
      ],
      "metadata": {
        "id": "BJ909y-XWA5M"
      }
    },
    {
      "cell_type": "code",
      "source": [
        "import xgboost as xgb"
      ],
      "metadata": {
        "id": "I_7PjPQFW08x"
      },
      "execution_count": null,
      "outputs": []
    },
    {
      "cell_type": "code",
      "source": [
        "# XGBoost\n",
        "acc_score = []\n",
        "\n",
        "for train_indices, test_indices in kfold.split(xs_norm):\n",
        "\n",
        "    X_train, X_test = xs_norm[train_indices], xs_norm[test_indices]\n",
        "    y_train, y_test = ys.iloc[train_indices], ys.iloc[test_indices]\n",
        "\n",
        "    model_xgb = xgb.XGBClassifier(n_estimators = 200, reg_lambda = 10, max_leaves = 1, max_depth = 10)\n",
        "    model_xgb.fit(X_train, y_train)\n",
        "\n",
        "    y_pred = model_xgb.predict(X_test)\n",
        "\n",
        "    acc = accuracy_score(y_test, y_pred)\n",
        "\n",
        "    acc_score.append(acc)\n",
        "\n",
        "average_acc = np.mean(acc_score)\n",
        "\n",
        "print(\"ACC scores:\", acc_score)\n",
        "print(\"Average accuracy:\", average_acc)\n"
      ],
      "metadata": {
        "id": "_kqgH94iQkg5",
        "colab": {
          "base_uri": "https://localhost:8080/"
        },
        "outputId": "2bd8aa8d-4790-454e-da42-14e5547d3e28"
      },
      "execution_count": null,
      "outputs": [
        {
          "output_type": "stream",
          "name": "stdout",
          "text": [
            "ACC scores: [0.9736363636363636, 0.9763636363636363, 0.975909090909091, 0.9768181818181818, 0.975]\n",
            "Average accuracy: 0.9755454545454544\n"
          ]
        }
      ]
    },
    {
      "cell_type": "code",
      "source": [
        "from sklearn.metrics import confusion_matrix"
      ],
      "metadata": {
        "id": "toGK_XZRXgcM"
      },
      "execution_count": null,
      "outputs": []
    },
    {
      "cell_type": "code",
      "source": [
        "confusion_matrix(y_test, y_pred)"
      ],
      "metadata": {
        "colab": {
          "base_uri": "https://localhost:8080/"
        },
        "id": "6rl_aWQAXhOc",
        "outputId": "a365f278-10da-460d-84d6-48ef5660ff35"
      },
      "execution_count": null,
      "outputs": [
        {
          "output_type": "execute_result",
          "data": {
            "text/plain": [
              "array([[1045,   36],\n",
              "       [  19, 1100]])"
            ]
          },
          "metadata": {},
          "execution_count": 36
        }
      ]
    },
    {
      "cell_type": "markdown",
      "source": [
        "Here,\n",
        "*   True Possitive Rate = 1045/(1045 + 36) = 0.967\n",
        "*   False Possitive Rate = 19/(19 + 1100) = 0.0169"
      ],
      "metadata": {
        "id": "7P24xyHdXvLw"
      }
    },
    {
      "cell_type": "markdown",
      "source": [
        "*   TPR (Benefit) = the percentage of companies that will go bankrupt and our model is predicting their bankruptcy. [it is high]\n",
        "*   FPR (Cost) = the percentage of companies that wouldn't go bankrupt and our model is predicting the same. [it is low]\n",
        "\n"
      ],
      "metadata": {
        "id": "J-sYbqSybph-"
      }
    },
    {
      "cell_type": "code",
      "source": [
        "from sklearn.metrics import roc_curve, roc_auc_score\n",
        "\n",
        "fpr, tpr, thresholds = roc_curve(y_test, y_pred)"
      ],
      "metadata": {
        "id": "KvV-hY7RWoqA"
      },
      "execution_count": null,
      "outputs": []
    },
    {
      "cell_type": "code",
      "source": [
        "import matplotlib.pyplot as plt\n",
        "plt.title('Receiver Operating Characteristic (ROC - Curve)')\n",
        "plt.plot(fpr, tpr)\n",
        "plt.plot([0, 1], [0, 1],'r--')\n",
        "plt.xlim([0, 1])\n",
        "plt.ylim([0, 1])\n",
        "plt.ylabel('True Positive Rate(TPR)')\n",
        "plt.xlabel('False Positive Rate (FPR)')\n",
        "plt.show()"
      ],
      "metadata": {
        "colab": {
          "base_uri": "https://localhost:8080/",
          "height": 472
        },
        "id": "5HSYI5arYbEO",
        "outputId": "54ad986e-60f2-45e2-d4d0-5ab76f250ab3"
      },
      "execution_count": null,
      "outputs": [
        {
          "output_type": "display_data",
          "data": {
            "text/plain": [
              "<Figure size 640x480 with 1 Axes>"
            ],
            "image/png": "[encoded data removed]"
          },
          "metadata": {}
        }
      ]
    },
    {
      "cell_type": "code",
      "source": [
        "roc_auc_score(y_test, y_pred)"
      ],
      "metadata": {
        "colab": {
          "base_uri": "https://localhost:8080/"
        },
        "id": "PSmFP2PWZlow",
        "outputId": "20b2aa74-bb6e-467e-8e62-7679e1622a56"
      },
      "execution_count": null,
      "outputs": [
        {
          "output_type": "execute_result",
          "data": {
            "text/plain": [
              "0.974859028189402"
            ]
          },
          "metadata": {},
          "execution_count": 56
        }
      ]
    },
    {
      "cell_type": "markdown",
      "source": [
        "The AUC-Roc is 0.974. This indicates that the model is able to do excellent distinction among the classes."
      ],
      "metadata": {
        "id": "p2isHLA5bbtf"
      }
    }
  ]
}